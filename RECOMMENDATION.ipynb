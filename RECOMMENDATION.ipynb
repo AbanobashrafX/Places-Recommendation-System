{
  "cells": [
    {
      "cell_type": "markdown",
      "metadata": {
        "id": "mZoKrnn9W3EH"
      },
      "source": [
        "*PLACES RECOMMENDATION ENGINE!*"
      ]
    },
    {
      "cell_type": "markdown",
      "metadata": {
        "id": "ztxrSbXcXZ7O"
      },
      "source": [
        "# Load data\n",
        "\n"
      ]
    },
    {
      "cell_type": "code",
      "execution_count": null,
      "metadata": {
        "id": "C5yepCnvXbx-"
      },
      "outputs": [],
      "source": [
        "import pandas as pd\n",
        "from sklearn.metrics.pairwise import cosine_similarity\n",
        "\n",
        "# Load data\n",
        "places_df = pd.read_csv('places.csv')\n",
        "places_df"
      ]
    },
    {
      "cell_type": "markdown",
      "metadata": {
        "id": "FFpCWE2CXtVu"
      },
      "source": [
        "# Preprocess data"
      ]
    },
    {
      "cell_type": "code",
      "execution_count": null,
      "metadata": {},
      "outputs": [],
      "source": [
        "places_df.dropna()"
      ]
    },
    {
      "cell_type": "code",
      "execution_count": null,
      "metadata": {
        "id": "Up22e4JbV25Z"
      },
      "outputs": [],
      "source": [
        "places_df['categories'] = places_df['categories'].apply(lambda x: x.split(';'))\n",
        "# Split categories on semicolons and remove quotation marks\n",
        "places_df['categories'] = places_df['categories'].str.strip('\"').str.split(';')\n",
        "categories = set([cat for cats in places_df['categories'] for cat in cats])\n",
        "categories"
      ]
    },
    {
      "cell_type": "code",
      "execution_count": null,
      "metadata": {
        "id": "RQVQRHBTYHKv"
      },
      "outputs": [],
      "source": [
        "for cat in categories:\n",
        "    places_df[cat] = places_df['categories'].apply(lambda x: int(cat in x))"
      ]
    },
    {
      "cell_type": "code",
      "execution_count": null,
      "metadata": {
        "id": "2utv9NSoYNdm"
      },
      "outputs": [],
      "source": [
        "places_df = places_df.drop(['categories'], axis=1)"
      ]
    },
    {
      "cell_type": "code",
      "execution_count": null,
      "metadata": {
        "id": "o92BiK_-YR7F"
      },
      "outputs": [],
      "source": [
        "# Compute item similarity\n",
        "cosine_sim = cosine_similarity(places_df.drop(['place_id', 'place_name'], axis=1))"
      ]
    },
    {
      "cell_type": "markdown",
      "metadata": {
        "id": "NHrU-zx1X0AW"
      },
      "source": [
        "# Define function to recommend places based on user preferences\n"
      ]
    },
    {
      "cell_type": "code",
      "execution_count": null,
      "metadata": {
        "id": "kvkEn83BX1hO"
      },
      "outputs": [],
      "source": [
        "def recommend_places(user_preferences, n_recommendations=5):\n",
        "    # Create user profile vector\n",
        "    user_profile = pd.Series(index=categories, data=0)\n",
        "    for pref in user_preferences:\n",
        "        user_profile[pref] = 1\n",
        "    \n",
        "    # Compute user similarity to items\n",
        "    user_sim = cosine_similarity([user_profile], places_df.drop(['place_id', 'place_name'], axis=1))\n",
        "    \n",
        "    # Get top n similar items\n",
        "    sim_scores = list(enumerate(user_sim[0]))\n",
        "    sim_scores = sorted(sim_scores, key=lambda x: x[1], reverse=True)\n",
        "    sim_scores = sim_scores[1:n_recommendations+1]\n",
        "    \n",
        "    # Get recommended places\n",
        "    place_indices = [i[0] for i in sim_scores]\n",
        "    recommendations = places_df[['place_name', 'categories']].iloc[place_indices].values.tolist()\n",
        "    \n",
        "    return recommendations"
      ]
    },
    {
      "cell_type": "code",
      "execution_count": null,
      "metadata": {
        "id": "VyP4SFpkWSwg"
      },
      "outputs": [],
      "source": [
        "# Example usage: recommend 5 places for someone who likes \n",
        "recommendations = recommend_places(user_preferences=['Tombs'], n_recommendations=2)\n",
        "print(recommendations)"
      ]
    },
    {
      "cell_type": "markdown",
      "metadata": {
        "id": "ct3PMZEUU-QK"
      },
      "source": [
        "# *# V2*"
      ]
    },
    {
      "cell_type": "code",
      "execution_count": null,
      "metadata": {
        "colab": {
          "base_uri": "https://localhost:8080/"
        },
        "id": "OGbuWDRRVF4a",
        "outputId": "01871981-aea4-4cbe-8e4d-6e373aae1a68"
      },
      "outputs": [
        {
          "name": "stdout",
          "output_type": "stream",
          "text": [
            "Looking in indexes: https://pypi.org/simple, https://us-python.pkg.dev/colab-wheels/public/simple/\n",
            "Requirement already satisfied: surprise in /usr/local/lib/python3.8/dist-packages (0.1)\n",
            "Requirement already satisfied: scikit-surprise in /usr/local/lib/python3.8/dist-packages (from surprise) (1.1.3)\n",
            "Requirement already satisfied: joblib>=1.0.0 in /usr/local/lib/python3.8/dist-packages (from scikit-surprise->surprise) (1.2.0)\n",
            "Requirement already satisfied: numpy>=1.17.3 in /usr/local/lib/python3.8/dist-packages (from scikit-surprise->surprise) (1.22.4)\n",
            "Requirement already satisfied: scipy>=1.3.2 in /usr/local/lib/python3.8/dist-packages (from scikit-surprise->surprise) (1.7.3)\n"
          ]
        }
      ],
      "source": [
        "import pandas as pd\n",
        "import numpy as np\n",
        "!pip install surprise\n",
        "from surprise import Dataset, Reader, SVD, KNNBasic\n",
        "from geopy.distance import geodesic\n",
        "from typing import List, Tuple\n",
        "\n",
        "# Read in the CSV file\n",
        "df = pd.read_csv('egypt_tourist_locations.csv')\n",
        "\n",
        "# Define a function to calculate the distance between two locations\n",
        "def calculate_distance(lat1: float, long1: float, lat2: float, long2: float) -> float:\n",
        "    return geodesic((lat1, long1), (lat2, long2)).km\n",
        "\n",
        "# Define a function to get recommended locations based on previously rated locations\n",
        "def recommended_locations(rated_locations: List[str], num_recommendations: int=5) -> List[Tuple[str, float]]:\n",
        "    # Calculate the mean rating, latitude, and longitude for each location\n",
        "    mean_ratings = df.groupby('location')['rating'].mean().reset_index()\n",
        "    mean_latitude = df.groupby('location')['latitude'].mean().reset_index()\n",
        "    mean_longitude = df.groupby('location')['longitude'].mean().reset_index()\n",
        "\n",
        "    # Create a DataFrame of the previously rated locations\n",
        "    rated_df = pd.DataFrame({'location_name': rated_locations})\n",
        "\n",
        "\n",
        "    return recommended_locations\n"
      ]
    },
    {
      "cell_type": "code",
      "execution_count": null,
      "metadata": {
        "id": "bxxjY6RaVh8y"
      },
      "outputs": [],
      "source": [
        "rated_locations = [\"Alexandria Library\", \"Cleopatra's Palace\", \"Pyramids of Giza\"]\n",
        "# Calculate the mean rating, latitude, and longitude for each location\n",
        "mean_ratings = df.groupby('location')['rating'].mean().reset_index()\n",
        "mean_latitude = df.groupby('location')['latitude'].mean().reset_index()\n",
        "mean_longitude = df.groupby('location')['longitude'].mean().reset_index()\n",
        "\n",
        "# Create a DataFrame of the previously rated locations\n",
        "rated_df = pd.DataFrame({'location_name': rated_locations})"
      ]
    },
    {
      "cell_type": "code",
      "execution_count": null,
      "metadata": {
        "id": "8sRy_3fI7fwM"
      },
      "outputs": [],
      "source": [
        "# Merge the mean ratings, latitude, and longitude with the rated locations DataFrame\n",
        "rated_df = pd.merge(rated_df, df[['location', 'location_name']].drop_duplicates(), on='location_name', how='left')\n",
        "\n",
        "rated_df = pd.merge(rated_df, mean_ratings, on='location', how='left')\n",
        "rated_df = pd.merge(rated_df, mean_latitude, on='location', how='left')\n",
        "rated_df = pd.merge(rated_df, mean_longitude, on='location', how='left')"
      ]
    },
    {
      "cell_type": "code",
      "execution_count": null,
      "metadata": {
        "colab": {
          "base_uri": "https://localhost:8080/",
          "height": 143
        },
        "id": "FJugX4-zV1sy",
        "outputId": "641f2324-4725-48b5-a5f7-c719d881ab4f"
      },
      "outputs": [
        {
          "data": {
            "text/html": [
              "\n",
              "  <div id=\"df-6e4fa2cc-c6d9-4f7d-98be-6b316c40ea56\">\n",
              "    <div class=\"colab-df-container\">\n",
              "      <div>\n",
              "<style scoped>\n",
              "    .dataframe tbody tr th:only-of-type {\n",
              "        vertical-align: middle;\n",
              "    }\n",
              "\n",
              "    .dataframe tbody tr th {\n",
              "        vertical-align: top;\n",
              "    }\n",
              "\n",
              "    .dataframe thead th {\n",
              "        text-align: right;\n",
              "    }\n",
              "</style>\n",
              "<table border=\"1\" class=\"dataframe\">\n",
              "  <thead>\n",
              "    <tr style=\"text-align: right;\">\n",
              "      <th></th>\n",
              "      <th>location_name</th>\n",
              "      <th>location</th>\n",
              "      <th>rating</th>\n",
              "      <th>latitude</th>\n",
              "      <th>longitude</th>\n",
              "    </tr>\n",
              "  </thead>\n",
              "  <tbody>\n",
              "    <tr>\n",
              "      <th>0</th>\n",
              "      <td>Alexandria Library</td>\n",
              "      <td>Alexandria</td>\n",
              "      <td>4.466667</td>\n",
              "      <td>31.227117</td>\n",
              "      <td>29.933017</td>\n",
              "    </tr>\n",
              "    <tr>\n",
              "      <th>1</th>\n",
              "      <td>Cleopatra's Palace</td>\n",
              "      <td>Alexandria</td>\n",
              "      <td>4.466667</td>\n",
              "      <td>31.227117</td>\n",
              "      <td>29.933017</td>\n",
              "    </tr>\n",
              "    <tr>\n",
              "      <th>2</th>\n",
              "      <td>Pyramids of Giza</td>\n",
              "      <td>Giza</td>\n",
              "      <td>4.600000</td>\n",
              "      <td>29.911650</td>\n",
              "      <td>31.165417</td>\n",
              "    </tr>\n",
              "  </tbody>\n",
              "</table>\n",
              "</div>\n",
              "      <button class=\"colab-df-convert\" onclick=\"convertToInteractive('df-6e4fa2cc-c6d9-4f7d-98be-6b316c40ea56')\"\n",
              "              title=\"Convert this dataframe to an interactive table.\"\n",
              "              style=\"display:none;\">\n",
              "        \n",
              "  <svg xmlns=\"http://www.w3.org/2000/svg\" height=\"24px\"viewBox=\"0 0 24 24\"\n",
              "       width=\"24px\">\n",
              "    <path d=\"M0 0h24v24H0V0z\" fill=\"none\"/>\n",
              "    <path d=\"M18.56 5.44l.94 2.06.94-2.06 2.06-.94-2.06-.94-.94-2.06-.94 2.06-2.06.94zm-11 1L8.5 8.5l.94-2.06 2.06-.94-2.06-.94L8.5 2.5l-.94 2.06-2.06.94zm10 10l.94 2.06.94-2.06 2.06-.94-2.06-.94-.94-2.06-.94 2.06-2.06.94z\"/><path d=\"M17.41 7.96l-1.37-1.37c-.4-.4-.92-.59-1.43-.59-.52 0-1.04.2-1.43.59L10.3 9.45l-7.72 7.72c-.78.78-.78 2.05 0 2.83L4 21.41c.39.39.9.59 1.41.59.51 0 1.02-.2 1.41-.59l7.78-7.78 2.81-2.81c.8-.78.8-2.07 0-2.86zM5.41 20L4 18.59l7.72-7.72 1.47 1.35L5.41 20z\"/>\n",
              "  </svg>\n",
              "      </button>\n",
              "      \n",
              "  <style>\n",
              "    .colab-df-container {\n",
              "      display:flex;\n",
              "      flex-wrap:wrap;\n",
              "      gap: 12px;\n",
              "    }\n",
              "\n",
              "    .colab-df-convert {\n",
              "      background-color: #E8F0FE;\n",
              "      border: none;\n",
              "      border-radius: 50%;\n",
              "      cursor: pointer;\n",
              "      display: none;\n",
              "      fill: #1967D2;\n",
              "      height: 32px;\n",
              "      padding: 0 0 0 0;\n",
              "      width: 32px;\n",
              "    }\n",
              "\n",
              "    .colab-df-convert:hover {\n",
              "      background-color: #E2EBFA;\n",
              "      box-shadow: 0px 1px 2px rgba(60, 64, 67, 0.3), 0px 1px 3px 1px rgba(60, 64, 67, 0.15);\n",
              "      fill: #174EA6;\n",
              "    }\n",
              "\n",
              "    [theme=dark] .colab-df-convert {\n",
              "      background-color: #3B4455;\n",
              "      fill: #D2E3FC;\n",
              "    }\n",
              "\n",
              "    [theme=dark] .colab-df-convert:hover {\n",
              "      background-color: #434B5C;\n",
              "      box-shadow: 0px 1px 3px 1px rgba(0, 0, 0, 0.15);\n",
              "      filter: drop-shadow(0px 1px 2px rgba(0, 0, 0, 0.3));\n",
              "      fill: #FFFFFF;\n",
              "    }\n",
              "  </style>\n",
              "\n",
              "      <script>\n",
              "        const buttonEl =\n",
              "          document.querySelector('#df-6e4fa2cc-c6d9-4f7d-98be-6b316c40ea56 button.colab-df-convert');\n",
              "        buttonEl.style.display =\n",
              "          google.colab.kernel.accessAllowed ? 'block' : 'none';\n",
              "\n",
              "        async function convertToInteractive(key) {\n",
              "          const element = document.querySelector('#df-6e4fa2cc-c6d9-4f7d-98be-6b316c40ea56');\n",
              "          const dataTable =\n",
              "            await google.colab.kernel.invokeFunction('convertToInteractive',\n",
              "                                                     [key], {});\n",
              "          if (!dataTable) return;\n",
              "\n",
              "          const docLinkHtml = 'Like what you see? Visit the ' +\n",
              "            '<a target=\"_blank\" href=https://colab.research.google.com/notebooks/data_table.ipynb>data table notebook</a>'\n",
              "            + ' to learn more about interactive tables.';\n",
              "          element.innerHTML = '';\n",
              "          dataTable['output_type'] = 'display_data';\n",
              "          await google.colab.output.renderOutput(dataTable, element);\n",
              "          const docLink = document.createElement('div');\n",
              "          docLink.innerHTML = docLinkHtml;\n",
              "          element.appendChild(docLink);\n",
              "        }\n",
              "      </script>\n",
              "    </div>\n",
              "  </div>\n",
              "  "
            ],
            "text/plain": [
              "        location_name    location    rating   latitude  longitude\n",
              "0  Alexandria Library  Alexandria  4.466667  31.227117  29.933017\n",
              "1  Cleopatra's Palace  Alexandria  4.466667  31.227117  29.933017\n",
              "2    Pyramids of Giza        Giza  4.600000  29.911650  31.165417"
            ]
          },
          "execution_count": 23,
          "metadata": {},
          "output_type": "execute_result"
        }
      ],
      "source": [
        "rated_df.head()"
      ]
    },
    {
      "cell_type": "code",
      "execution_count": null,
      "metadata": {
        "id": "CrNGZaagKDhS"
      },
      "outputs": [],
      "source": [
        "# Drop any rows with missing values\n",
        "rated_df.dropna(inplace=True)\n",
        "\n",
        "# Create a list of the unique locations\n",
        "locations = df['location_name'].unique()\n",
        "\n",
        "# Create a list of the previously rated locations\n",
        "rated_locations = rated_df['location_name'].unique()\n",
        "\n",
        "# Create a list of unrated locations\n",
        "unrated_locations = np.setdiff1d(locations, rated_locations)\n",
        "\n",
        "# Create a DataFrame of the unrated locations\n",
        "unrated_df = pd.DataFrame({'location_name': unrated_locations})\n",
        "\n",
        "# Merge the mean ratings, latitude, and longitude with the unrated locations DataFrame\n",
        "unrated_df = pd.merge(unrated_df, df[['location', 'location_name']].drop_duplicates(), on='location_name', how='left')\n",
        "unrated_df = pd.merge(unrated_df, mean_ratings, on='location', how='left')\n",
        "unrated_df = pd.merge(unrated_df, mean_latitude, on='location', how='left')\n",
        "unrated_df = pd.merge(unrated_df, mean_longitude, on='location', how='left')\n",
        "\n",
        "# Calculate the distance between each unrated location and the nearest rated location\n",
        "unrated_df['distance_to_rated'] = unrated_df.apply(\n",
        "    lambda row: min([geodesic((row['latitude'], row['longitude']), \n",
        "                              (rated_df[rated_df['location_name']==loc][['latitude', 'longitude']].iloc[0])\n",
        "                             ).km for loc in rated_locations]), axis=1\n",
        ")\n",
        "\n",
        "# Sort the unrated_df by the distance_to_rated column\n",
        "unrated_df = unrated_df.sort_values('distance_to_rated')\n"
      ]
    },
    {
      "cell_type": "code",
      "execution_count": null,
      "metadata": {
        "colab": {
          "base_uri": "https://localhost:8080/",
          "height": 1000
        },
        "id": "NJTMbZ6B6X51",
        "outputId": "e1da54ef-636b-40f3-fb7b-e02a75ed3e1b"
      },
      "outputs": [
        {
          "data": {
            "text/html": [
              "\n",
              "  <div id=\"df-8a20667c-0636-448d-b68b-e7d491b8e0c0\">\n",
              "    <div class=\"colab-df-container\">\n",
              "      <div>\n",
              "<style scoped>\n",
              "    .dataframe tbody tr th:only-of-type {\n",
              "        vertical-align: middle;\n",
              "    }\n",
              "\n",
              "    .dataframe tbody tr th {\n",
              "        vertical-align: top;\n",
              "    }\n",
              "\n",
              "    .dataframe thead th {\n",
              "        text-align: right;\n",
              "    }\n",
              "</style>\n",
              "<table border=\"1\" class=\"dataframe\">\n",
              "  <thead>\n",
              "    <tr style=\"text-align: right;\">\n",
              "      <th></th>\n",
              "      <th>location_name</th>\n",
              "      <th>location</th>\n",
              "      <th>rating</th>\n",
              "      <th>latitude</th>\n",
              "      <th>longitude</th>\n",
              "      <th>distance_to_rated</th>\n",
              "    </tr>\n",
              "  </thead>\n",
              "  <tbody>\n",
              "    <tr>\n",
              "      <th>35</th>\n",
              "      <td>Step Pyramid of Djoser</td>\n",
              "      <td>Giza</td>\n",
              "      <td>4.600000</td>\n",
              "      <td>29.911650</td>\n",
              "      <td>31.165417</td>\n",
              "      <td>0.000000</td>\n",
              "    </tr>\n",
              "    <tr>\n",
              "      <th>33</th>\n",
              "      <td>Sphinx</td>\n",
              "      <td>Giza</td>\n",
              "      <td>4.600000</td>\n",
              "      <td>29.911650</td>\n",
              "      <td>31.165417</td>\n",
              "      <td>0.000000</td>\n",
              "    </tr>\n",
              "    <tr>\n",
              "      <th>31</th>\n",
              "      <td>Saqqara</td>\n",
              "      <td>Giza</td>\n",
              "      <td>4.600000</td>\n",
              "      <td>29.911650</td>\n",
              "      <td>31.165417</td>\n",
              "      <td>0.000000</td>\n",
              "    </tr>\n",
              "    <tr>\n",
              "      <th>28</th>\n",
              "      <td>Qaitbay Citadel</td>\n",
              "      <td>Alexandria</td>\n",
              "      <td>4.466667</td>\n",
              "      <td>31.227117</td>\n",
              "      <td>29.933017</td>\n",
              "      <td>0.000000</td>\n",
              "    </tr>\n",
              "    <tr>\n",
              "      <th>27</th>\n",
              "      <td>Pompey's Pillar</td>\n",
              "      <td>Alexandria</td>\n",
              "      <td>4.466667</td>\n",
              "      <td>31.227117</td>\n",
              "      <td>29.933017</td>\n",
              "      <td>0.000000</td>\n",
              "    </tr>\n",
              "    <tr>\n",
              "      <th>20</th>\n",
              "      <td>Montaza Palace</td>\n",
              "      <td>Alexandria</td>\n",
              "      <td>4.466667</td>\n",
              "      <td>31.227117</td>\n",
              "      <td>29.933017</td>\n",
              "      <td>0.000000</td>\n",
              "    </tr>\n",
              "    <tr>\n",
              "      <th>15</th>\n",
              "      <td>Giza Necropolis</td>\n",
              "      <td>Giza</td>\n",
              "      <td>4.600000</td>\n",
              "      <td>29.911650</td>\n",
              "      <td>31.165417</td>\n",
              "      <td>0.000000</td>\n",
              "    </tr>\n",
              "    <tr>\n",
              "      <th>12</th>\n",
              "      <td>Dahshur</td>\n",
              "      <td>Giza</td>\n",
              "      <td>4.600000</td>\n",
              "      <td>29.911650</td>\n",
              "      <td>31.165417</td>\n",
              "      <td>0.000000</td>\n",
              "    </tr>\n",
              "    <tr>\n",
              "      <th>10</th>\n",
              "      <td>Catacombs of Kom el Shoqafa</td>\n",
              "      <td>Alexandria</td>\n",
              "      <td>4.466667</td>\n",
              "      <td>31.227117</td>\n",
              "      <td>29.933017</td>\n",
              "      <td>0.000000</td>\n",
              "    </tr>\n",
              "    <tr>\n",
              "      <th>0</th>\n",
              "      <td>Abdeen Palace</td>\n",
              "      <td>Cairo</td>\n",
              "      <td>4.435000</td>\n",
              "      <td>30.030185</td>\n",
              "      <td>31.245205</td>\n",
              "      <td>15.230115</td>\n",
              "    </tr>\n",
              "    <tr>\n",
              "      <th>37</th>\n",
              "      <td>The Hanging Church</td>\n",
              "      <td>Cairo</td>\n",
              "      <td>4.435000</td>\n",
              "      <td>30.030185</td>\n",
              "      <td>31.245205</td>\n",
              "      <td>15.230115</td>\n",
              "    </tr>\n",
              "    <tr>\n",
              "      <th>24</th>\n",
              "      <td>Muizz Street</td>\n",
              "      <td>Cairo</td>\n",
              "      <td>4.435000</td>\n",
              "      <td>30.030185</td>\n",
              "      <td>31.245205</td>\n",
              "      <td>15.230115</td>\n",
              "    </tr>\n",
              "    <tr>\n",
              "      <th>22</th>\n",
              "      <td>Mosque-Madrassa of Sultan Hassan</td>\n",
              "      <td>Cairo</td>\n",
              "      <td>4.435000</td>\n",
              "      <td>30.030185</td>\n",
              "      <td>31.245205</td>\n",
              "      <td>15.230115</td>\n",
              "    </tr>\n",
              "    <tr>\n",
              "      <th>25</th>\n",
              "      <td>Museum of Islamic Art</td>\n",
              "      <td>Cairo</td>\n",
              "      <td>4.435000</td>\n",
              "      <td>30.030185</td>\n",
              "      <td>31.245205</td>\n",
              "      <td>15.230115</td>\n",
              "    </tr>\n",
              "    <tr>\n",
              "      <th>36</th>\n",
              "      <td>The Egyptian Museum</td>\n",
              "      <td>Cairo</td>\n",
              "      <td>4.435000</td>\n",
              "      <td>30.030185</td>\n",
              "      <td>31.245205</td>\n",
              "      <td>15.230115</td>\n",
              "    </tr>\n",
              "    <tr>\n",
              "      <th>21</th>\n",
              "      <td>Mosque of Ibn Tulun</td>\n",
              "      <td>Cairo</td>\n",
              "      <td>4.435000</td>\n",
              "      <td>30.030185</td>\n",
              "      <td>31.245205</td>\n",
              "      <td>15.230115</td>\n",
              "    </tr>\n",
              "    <tr>\n",
              "      <th>18</th>\n",
              "      <td>Khan el-Khalili</td>\n",
              "      <td>Cairo</td>\n",
              "      <td>4.435000</td>\n",
              "      <td>30.030185</td>\n",
              "      <td>31.245205</td>\n",
              "      <td>15.230115</td>\n",
              "    </tr>\n",
              "    <tr>\n",
              "      <th>19</th>\n",
              "      <td>Memphis</td>\n",
              "      <td>Cairo</td>\n",
              "      <td>4.435000</td>\n",
              "      <td>30.030185</td>\n",
              "      <td>31.245205</td>\n",
              "      <td>15.230115</td>\n",
              "    </tr>\n",
              "    <tr>\n",
              "      <th>5</th>\n",
              "      <td>Al-Muizz Street</td>\n",
              "      <td>Cairo</td>\n",
              "      <td>4.435000</td>\n",
              "      <td>30.030185</td>\n",
              "      <td>31.245205</td>\n",
              "      <td>15.230115</td>\n",
              "    </tr>\n",
              "    <tr>\n",
              "      <th>14</th>\n",
              "      <td>El Moez Street</td>\n",
              "      <td>Cairo</td>\n",
              "      <td>4.435000</td>\n",
              "      <td>30.030185</td>\n",
              "      <td>31.245205</td>\n",
              "      <td>15.230115</td>\n",
              "    </tr>\n",
              "    <tr>\n",
              "      <th>13</th>\n",
              "      <td>Egyptian Museum</td>\n",
              "      <td>Cairo</td>\n",
              "      <td>4.435000</td>\n",
              "      <td>30.030185</td>\n",
              "      <td>31.245205</td>\n",
              "      <td>15.230115</td>\n",
              "    </tr>\n",
              "    <tr>\n",
              "      <th>11</th>\n",
              "      <td>Citadel of Cairo</td>\n",
              "      <td>Cairo</td>\n",
              "      <td>4.435000</td>\n",
              "      <td>30.030185</td>\n",
              "      <td>31.245205</td>\n",
              "      <td>15.230115</td>\n",
              "    </tr>\n",
              "    <tr>\n",
              "      <th>9</th>\n",
              "      <td>Cairo Tower</td>\n",
              "      <td>Cairo</td>\n",
              "      <td>4.435000</td>\n",
              "      <td>30.030185</td>\n",
              "      <td>31.245205</td>\n",
              "      <td>15.230115</td>\n",
              "    </tr>\n",
              "    <tr>\n",
              "      <th>8</th>\n",
              "      <td>Cairo Opera House</td>\n",
              "      <td>Cairo</td>\n",
              "      <td>4.435000</td>\n",
              "      <td>30.030185</td>\n",
              "      <td>31.245205</td>\n",
              "      <td>15.230115</td>\n",
              "    </tr>\n",
              "    <tr>\n",
              "      <th>7</th>\n",
              "      <td>Bab Zuweila</td>\n",
              "      <td>Cairo</td>\n",
              "      <td>4.435000</td>\n",
              "      <td>30.030185</td>\n",
              "      <td>31.245205</td>\n",
              "      <td>15.230115</td>\n",
              "    </tr>\n",
              "    <tr>\n",
              "      <th>3</th>\n",
              "      <td>Al-Azhar Mosque</td>\n",
              "      <td>Cairo</td>\n",
              "      <td>4.435000</td>\n",
              "      <td>30.030185</td>\n",
              "      <td>31.245205</td>\n",
              "      <td>15.230115</td>\n",
              "    </tr>\n",
              "    <tr>\n",
              "      <th>4</th>\n",
              "      <td>Al-Azhar Park</td>\n",
              "      <td>Cairo</td>\n",
              "      <td>4.435000</td>\n",
              "      <td>30.030185</td>\n",
              "      <td>31.245205</td>\n",
              "      <td>15.230115</td>\n",
              "    </tr>\n",
              "    <tr>\n",
              "      <th>34</th>\n",
              "      <td>St. Anthony's Monastery</td>\n",
              "      <td>Red Sea</td>\n",
              "      <td>4.600000</td>\n",
              "      <td>28.560600</td>\n",
              "      <td>33.904900</td>\n",
              "      <td>305.521821</td>\n",
              "    </tr>\n",
              "    <tr>\n",
              "      <th>23</th>\n",
              "      <td>Mount Sinai</td>\n",
              "      <td>Sinai</td>\n",
              "      <td>4.600000</td>\n",
              "      <td>28.546500</td>\n",
              "      <td>33.975800</td>\n",
              "      <td>312.317655</td>\n",
              "    </tr>\n",
              "    <tr>\n",
              "      <th>30</th>\n",
              "      <td>Saint Catherine's Monastery</td>\n",
              "      <td>Sinai</td>\n",
              "      <td>4.600000</td>\n",
              "      <td>28.546500</td>\n",
              "      <td>33.975800</td>\n",
              "      <td>312.317655</td>\n",
              "    </tr>\n",
              "    <tr>\n",
              "      <th>32</th>\n",
              "      <td>Sharm El Sheikh</td>\n",
              "      <td>Sharm El Sheikh</td>\n",
              "      <td>4.450000</td>\n",
              "      <td>27.835850</td>\n",
              "      <td>34.296150</td>\n",
              "      <td>382.349613</td>\n",
              "    </tr>\n",
              "    <tr>\n",
              "      <th>29</th>\n",
              "      <td>Ras Mohammed National Park</td>\n",
              "      <td>Sharm El Sheikh</td>\n",
              "      <td>4.450000</td>\n",
              "      <td>27.835850</td>\n",
              "      <td>34.296150</td>\n",
              "      <td>382.349613</td>\n",
              "    </tr>\n",
              "    <tr>\n",
              "      <th>16</th>\n",
              "      <td>Hurghada</td>\n",
              "      <td>Hurghada</td>\n",
              "      <td>4.300000</td>\n",
              "      <td>27.257900</td>\n",
              "      <td>33.811600</td>\n",
              "      <td>391.775303</td>\n",
              "    </tr>\n",
              "    <tr>\n",
              "      <th>17</th>\n",
              "      <td>Karnak Temple</td>\n",
              "      <td>Luxor</td>\n",
              "      <td>4.650000</td>\n",
              "      <td>25.729450</td>\n",
              "      <td>32.629250</td>\n",
              "      <td>485.362392</td>\n",
              "    </tr>\n",
              "    <tr>\n",
              "      <th>38</th>\n",
              "      <td>Valley of the Kings</td>\n",
              "      <td>Luxor</td>\n",
              "      <td>4.650000</td>\n",
              "      <td>25.729450</td>\n",
              "      <td>32.629250</td>\n",
              "      <td>485.362392</td>\n",
              "    </tr>\n",
              "    <tr>\n",
              "      <th>6</th>\n",
              "      <td>Aswan Botanical Garden</td>\n",
              "      <td>Aswan</td>\n",
              "      <td>4.650000</td>\n",
              "      <td>23.193675</td>\n",
              "      <td>32.253825</td>\n",
              "      <td>752.177467</td>\n",
              "    </tr>\n",
              "    <tr>\n",
              "      <th>26</th>\n",
              "      <td>Philae Temple</td>\n",
              "      <td>Aswan</td>\n",
              "      <td>4.650000</td>\n",
              "      <td>23.193675</td>\n",
              "      <td>32.253825</td>\n",
              "      <td>752.177467</td>\n",
              "    </tr>\n",
              "    <tr>\n",
              "      <th>2</th>\n",
              "      <td>Abu Simbel temples</td>\n",
              "      <td>Aswan</td>\n",
              "      <td>4.650000</td>\n",
              "      <td>23.193675</td>\n",
              "      <td>32.253825</td>\n",
              "      <td>752.177467</td>\n",
              "    </tr>\n",
              "    <tr>\n",
              "      <th>1</th>\n",
              "      <td>Abu Simbel</td>\n",
              "      <td>Aswan</td>\n",
              "      <td>4.650000</td>\n",
              "      <td>23.193675</td>\n",
              "      <td>32.253825</td>\n",
              "      <td>752.177467</td>\n",
              "    </tr>\n",
              "  </tbody>\n",
              "</table>\n",
              "</div>\n",
              "      <button class=\"colab-df-convert\" onclick=\"convertToInteractive('df-8a20667c-0636-448d-b68b-e7d491b8e0c0')\"\n",
              "              title=\"Convert this dataframe to an interactive table.\"\n",
              "              style=\"display:none;\">\n",
              "        \n",
              "  <svg xmlns=\"http://www.w3.org/2000/svg\" height=\"24px\"viewBox=\"0 0 24 24\"\n",
              "       width=\"24px\">\n",
              "    <path d=\"M0 0h24v24H0V0z\" fill=\"none\"/>\n",
              "    <path d=\"M18.56 5.44l.94 2.06.94-2.06 2.06-.94-2.06-.94-.94-2.06-.94 2.06-2.06.94zm-11 1L8.5 8.5l.94-2.06 2.06-.94-2.06-.94L8.5 2.5l-.94 2.06-2.06.94zm10 10l.94 2.06.94-2.06 2.06-.94-2.06-.94-.94-2.06-.94 2.06-2.06.94z\"/><path d=\"M17.41 7.96l-1.37-1.37c-.4-.4-.92-.59-1.43-.59-.52 0-1.04.2-1.43.59L10.3 9.45l-7.72 7.72c-.78.78-.78 2.05 0 2.83L4 21.41c.39.39.9.59 1.41.59.51 0 1.02-.2 1.41-.59l7.78-7.78 2.81-2.81c.8-.78.8-2.07 0-2.86zM5.41 20L4 18.59l7.72-7.72 1.47 1.35L5.41 20z\"/>\n",
              "  </svg>\n",
              "      </button>\n",
              "      \n",
              "  <style>\n",
              "    .colab-df-container {\n",
              "      display:flex;\n",
              "      flex-wrap:wrap;\n",
              "      gap: 12px;\n",
              "    }\n",
              "\n",
              "    .colab-df-convert {\n",
              "      background-color: #E8F0FE;\n",
              "      border: none;\n",
              "      border-radius: 50%;\n",
              "      cursor: pointer;\n",
              "      display: none;\n",
              "      fill: #1967D2;\n",
              "      height: 32px;\n",
              "      padding: 0 0 0 0;\n",
              "      width: 32px;\n",
              "    }\n",
              "\n",
              "    .colab-df-convert:hover {\n",
              "      background-color: #E2EBFA;\n",
              "      box-shadow: 0px 1px 2px rgba(60, 64, 67, 0.3), 0px 1px 3px 1px rgba(60, 64, 67, 0.15);\n",
              "      fill: #174EA6;\n",
              "    }\n",
              "\n",
              "    [theme=dark] .colab-df-convert {\n",
              "      background-color: #3B4455;\n",
              "      fill: #D2E3FC;\n",
              "    }\n",
              "\n",
              "    [theme=dark] .colab-df-convert:hover {\n",
              "      background-color: #434B5C;\n",
              "      box-shadow: 0px 1px 3px 1px rgba(0, 0, 0, 0.15);\n",
              "      filter: drop-shadow(0px 1px 2px rgba(0, 0, 0, 0.3));\n",
              "      fill: #FFFFFF;\n",
              "    }\n",
              "  </style>\n",
              "\n",
              "      <script>\n",
              "        const buttonEl =\n",
              "          document.querySelector('#df-8a20667c-0636-448d-b68b-e7d491b8e0c0 button.colab-df-convert');\n",
              "        buttonEl.style.display =\n",
              "          google.colab.kernel.accessAllowed ? 'block' : 'none';\n",
              "\n",
              "        async function convertToInteractive(key) {\n",
              "          const element = document.querySelector('#df-8a20667c-0636-448d-b68b-e7d491b8e0c0');\n",
              "          const dataTable =\n",
              "            await google.colab.kernel.invokeFunction('convertToInteractive',\n",
              "                                                     [key], {});\n",
              "          if (!dataTable) return;\n",
              "\n",
              "          const docLinkHtml = 'Like what you see? Visit the ' +\n",
              "            '<a target=\"_blank\" href=https://colab.research.google.com/notebooks/data_table.ipynb>data table notebook</a>'\n",
              "            + ' to learn more about interactive tables.';\n",
              "          element.innerHTML = '';\n",
              "          dataTable['output_type'] = 'display_data';\n",
              "          await google.colab.output.renderOutput(dataTable, element);\n",
              "          const docLink = document.createElement('div');\n",
              "          docLink.innerHTML = docLinkHtml;\n",
              "          element.appendChild(docLink);\n",
              "        }\n",
              "      </script>\n",
              "    </div>\n",
              "  </div>\n",
              "  "
            ],
            "text/plain": [
              "                       location_name         location    rating   latitude  \\\n",
              "35            Step Pyramid of Djoser             Giza  4.600000  29.911650   \n",
              "33                            Sphinx             Giza  4.600000  29.911650   \n",
              "31                           Saqqara             Giza  4.600000  29.911650   \n",
              "28                   Qaitbay Citadel       Alexandria  4.466667  31.227117   \n",
              "27                   Pompey's Pillar       Alexandria  4.466667  31.227117   \n",
              "20                    Montaza Palace       Alexandria  4.466667  31.227117   \n",
              "15                   Giza Necropolis             Giza  4.600000  29.911650   \n",
              "12                           Dahshur             Giza  4.600000  29.911650   \n",
              "10       Catacombs of Kom el Shoqafa       Alexandria  4.466667  31.227117   \n",
              "0                      Abdeen Palace            Cairo  4.435000  30.030185   \n",
              "37                The Hanging Church            Cairo  4.435000  30.030185   \n",
              "24                      Muizz Street            Cairo  4.435000  30.030185   \n",
              "22  Mosque-Madrassa of Sultan Hassan            Cairo  4.435000  30.030185   \n",
              "25             Museum of Islamic Art            Cairo  4.435000  30.030185   \n",
              "36               The Egyptian Museum            Cairo  4.435000  30.030185   \n",
              "21               Mosque of Ibn Tulun            Cairo  4.435000  30.030185   \n",
              "18                   Khan el-Khalili            Cairo  4.435000  30.030185   \n",
              "19                           Memphis            Cairo  4.435000  30.030185   \n",
              "5                    Al-Muizz Street            Cairo  4.435000  30.030185   \n",
              "14                    El Moez Street            Cairo  4.435000  30.030185   \n",
              "13                   Egyptian Museum            Cairo  4.435000  30.030185   \n",
              "11                  Citadel of Cairo            Cairo  4.435000  30.030185   \n",
              "9                        Cairo Tower            Cairo  4.435000  30.030185   \n",
              "8                  Cairo Opera House            Cairo  4.435000  30.030185   \n",
              "7                        Bab Zuweila            Cairo  4.435000  30.030185   \n",
              "3                    Al-Azhar Mosque            Cairo  4.435000  30.030185   \n",
              "4                      Al-Azhar Park            Cairo  4.435000  30.030185   \n",
              "34           St. Anthony's Monastery          Red Sea  4.600000  28.560600   \n",
              "23                       Mount Sinai            Sinai  4.600000  28.546500   \n",
              "30       Saint Catherine's Monastery            Sinai  4.600000  28.546500   \n",
              "32                   Sharm El Sheikh  Sharm El Sheikh  4.450000  27.835850   \n",
              "29        Ras Mohammed National Park  Sharm El Sheikh  4.450000  27.835850   \n",
              "16                          Hurghada         Hurghada  4.300000  27.257900   \n",
              "17                     Karnak Temple            Luxor  4.650000  25.729450   \n",
              "38               Valley of the Kings            Luxor  4.650000  25.729450   \n",
              "6             Aswan Botanical Garden            Aswan  4.650000  23.193675   \n",
              "26                     Philae Temple            Aswan  4.650000  23.193675   \n",
              "2                 Abu Simbel temples            Aswan  4.650000  23.193675   \n",
              "1                         Abu Simbel            Aswan  4.650000  23.193675   \n",
              "\n",
              "    longitude  distance_to_rated  \n",
              "35  31.165417           0.000000  \n",
              "33  31.165417           0.000000  \n",
              "31  31.165417           0.000000  \n",
              "28  29.933017           0.000000  \n",
              "27  29.933017           0.000000  \n",
              "20  29.933017           0.000000  \n",
              "15  31.165417           0.000000  \n",
              "12  31.165417           0.000000  \n",
              "10  29.933017           0.000000  \n",
              "0   31.245205          15.230115  \n",
              "37  31.245205          15.230115  \n",
              "24  31.245205          15.230115  \n",
              "22  31.245205          15.230115  \n",
              "25  31.245205          15.230115  \n",
              "36  31.245205          15.230115  \n",
              "21  31.245205          15.230115  \n",
              "18  31.245205          15.230115  \n",
              "19  31.245205          15.230115  \n",
              "5   31.245205          15.230115  \n",
              "14  31.245205          15.230115  \n",
              "13  31.245205          15.230115  \n",
              "11  31.245205          15.230115  \n",
              "9   31.245205          15.230115  \n",
              "8   31.245205          15.230115  \n",
              "7   31.245205          15.230115  \n",
              "3   31.245205          15.230115  \n",
              "4   31.245205          15.230115  \n",
              "34  33.904900         305.521821  \n",
              "23  33.975800         312.317655  \n",
              "30  33.975800         312.317655  \n",
              "32  34.296150         382.349613  \n",
              "29  34.296150         382.349613  \n",
              "16  33.811600         391.775303  \n",
              "17  32.629250         485.362392  \n",
              "38  32.629250         485.362392  \n",
              "6   32.253825         752.177467  \n",
              "26  32.253825         752.177467  \n",
              "2   32.253825         752.177467  \n",
              "1   32.253825         752.177467  "
            ]
          },
          "execution_count": 25,
          "metadata": {},
          "output_type": "execute_result"
        }
      ],
      "source": [
        "# unrated_df = unrated_df[::-1]\n",
        "# unrated_df.head(3)\n",
        "unrated_df"
      ]
    },
    {
      "cell_type": "code",
      "execution_count": null,
      "metadata": {
        "id": "EphTACQi1upg"
      },
      "outputs": [],
      "source": [
        "# Fill any missing values with the overall mean rating\n",
        "unrated_df['rating'] = unrated_df['rating'].fillna(df['rating'].mean())\n",
        "\n",
        "# Rename the 'location' column to 'location_name'\n",
        "# unrated_df = unrated_df.rename(columns={'location': 'location_name'})\n",
        "# rated_df = rated_df.rename(columns={'location': 'location_name'})"
      ]
    },
    {
      "cell_type": "code",
      "execution_count": null,
      "metadata": {
        "colab": {
          "base_uri": "https://localhost:8080/",
          "height": 143
        },
        "id": "pNjuecSM3zNV",
        "outputId": "16ae823a-066d-46e3-f123-bd00bc394550"
      },
      "outputs": [
        {
          "data": {
            "text/html": [
              "\n",
              "  <div id=\"df-d3b12e5e-5776-4326-9230-6a4edcf22c15\">\n",
              "    <div class=\"colab-df-container\">\n",
              "      <div>\n",
              "<style scoped>\n",
              "    .dataframe tbody tr th:only-of-type {\n",
              "        vertical-align: middle;\n",
              "    }\n",
              "\n",
              "    .dataframe tbody tr th {\n",
              "        vertical-align: top;\n",
              "    }\n",
              "\n",
              "    .dataframe thead th {\n",
              "        text-align: right;\n",
              "    }\n",
              "</style>\n",
              "<table border=\"1\" class=\"dataframe\">\n",
              "  <thead>\n",
              "    <tr style=\"text-align: right;\">\n",
              "      <th></th>\n",
              "      <th>location_name</th>\n",
              "      <th>location</th>\n",
              "      <th>rating</th>\n",
              "      <th>latitude</th>\n",
              "      <th>longitude</th>\n",
              "      <th>distance_to_rated</th>\n",
              "    </tr>\n",
              "  </thead>\n",
              "  <tbody>\n",
              "    <tr>\n",
              "      <th>35</th>\n",
              "      <td>Step Pyramid of Djoser</td>\n",
              "      <td>Giza</td>\n",
              "      <td>4.6</td>\n",
              "      <td>29.91165</td>\n",
              "      <td>31.165417</td>\n",
              "      <td>0.0</td>\n",
              "    </tr>\n",
              "    <tr>\n",
              "      <th>33</th>\n",
              "      <td>Sphinx</td>\n",
              "      <td>Giza</td>\n",
              "      <td>4.6</td>\n",
              "      <td>29.91165</td>\n",
              "      <td>31.165417</td>\n",
              "      <td>0.0</td>\n",
              "    </tr>\n",
              "    <tr>\n",
              "      <th>31</th>\n",
              "      <td>Saqqara</td>\n",
              "      <td>Giza</td>\n",
              "      <td>4.6</td>\n",
              "      <td>29.91165</td>\n",
              "      <td>31.165417</td>\n",
              "      <td>0.0</td>\n",
              "    </tr>\n",
              "  </tbody>\n",
              "</table>\n",
              "</div>\n",
              "      <button class=\"colab-df-convert\" onclick=\"convertToInteractive('df-d3b12e5e-5776-4326-9230-6a4edcf22c15')\"\n",
              "              title=\"Convert this dataframe to an interactive table.\"\n",
              "              style=\"display:none;\">\n",
              "        \n",
              "  <svg xmlns=\"http://www.w3.org/2000/svg\" height=\"24px\"viewBox=\"0 0 24 24\"\n",
              "       width=\"24px\">\n",
              "    <path d=\"M0 0h24v24H0V0z\" fill=\"none\"/>\n",
              "    <path d=\"M18.56 5.44l.94 2.06.94-2.06 2.06-.94-2.06-.94-.94-2.06-.94 2.06-2.06.94zm-11 1L8.5 8.5l.94-2.06 2.06-.94-2.06-.94L8.5 2.5l-.94 2.06-2.06.94zm10 10l.94 2.06.94-2.06 2.06-.94-2.06-.94-.94-2.06-.94 2.06-2.06.94z\"/><path d=\"M17.41 7.96l-1.37-1.37c-.4-.4-.92-.59-1.43-.59-.52 0-1.04.2-1.43.59L10.3 9.45l-7.72 7.72c-.78.78-.78 2.05 0 2.83L4 21.41c.39.39.9.59 1.41.59.51 0 1.02-.2 1.41-.59l7.78-7.78 2.81-2.81c.8-.78.8-2.07 0-2.86zM5.41 20L4 18.59l7.72-7.72 1.47 1.35L5.41 20z\"/>\n",
              "  </svg>\n",
              "      </button>\n",
              "      \n",
              "  <style>\n",
              "    .colab-df-container {\n",
              "      display:flex;\n",
              "      flex-wrap:wrap;\n",
              "      gap: 12px;\n",
              "    }\n",
              "\n",
              "    .colab-df-convert {\n",
              "      background-color: #E8F0FE;\n",
              "      border: none;\n",
              "      border-radius: 50%;\n",
              "      cursor: pointer;\n",
              "      display: none;\n",
              "      fill: #1967D2;\n",
              "      height: 32px;\n",
              "      padding: 0 0 0 0;\n",
              "      width: 32px;\n",
              "    }\n",
              "\n",
              "    .colab-df-convert:hover {\n",
              "      background-color: #E2EBFA;\n",
              "      box-shadow: 0px 1px 2px rgba(60, 64, 67, 0.3), 0px 1px 3px 1px rgba(60, 64, 67, 0.15);\n",
              "      fill: #174EA6;\n",
              "    }\n",
              "\n",
              "    [theme=dark] .colab-df-convert {\n",
              "      background-color: #3B4455;\n",
              "      fill: #D2E3FC;\n",
              "    }\n",
              "\n",
              "    [theme=dark] .colab-df-convert:hover {\n",
              "      background-color: #434B5C;\n",
              "      box-shadow: 0px 1px 3px 1px rgba(0, 0, 0, 0.15);\n",
              "      filter: drop-shadow(0px 1px 2px rgba(0, 0, 0, 0.3));\n",
              "      fill: #FFFFFF;\n",
              "    }\n",
              "  </style>\n",
              "\n",
              "      <script>\n",
              "        const buttonEl =\n",
              "          document.querySelector('#df-d3b12e5e-5776-4326-9230-6a4edcf22c15 button.colab-df-convert');\n",
              "        buttonEl.style.display =\n",
              "          google.colab.kernel.accessAllowed ? 'block' : 'none';\n",
              "\n",
              "        async function convertToInteractive(key) {\n",
              "          const element = document.querySelector('#df-d3b12e5e-5776-4326-9230-6a4edcf22c15');\n",
              "          const dataTable =\n",
              "            await google.colab.kernel.invokeFunction('convertToInteractive',\n",
              "                                                     [key], {});\n",
              "          if (!dataTable) return;\n",
              "\n",
              "          const docLinkHtml = 'Like what you see? Visit the ' +\n",
              "            '<a target=\"_blank\" href=https://colab.research.google.com/notebooks/data_table.ipynb>data table notebook</a>'\n",
              "            + ' to learn more about interactive tables.';\n",
              "          element.innerHTML = '';\n",
              "          dataTable['output_type'] = 'display_data';\n",
              "          await google.colab.output.renderOutput(dataTable, element);\n",
              "          const docLink = document.createElement('div');\n",
              "          docLink.innerHTML = docLinkHtml;\n",
              "          element.appendChild(docLink);\n",
              "        }\n",
              "      </script>\n",
              "    </div>\n",
              "  </div>\n",
              "  "
            ],
            "text/plain": [
              "             location_name location  rating  latitude  longitude  \\\n",
              "35  Step Pyramid of Djoser     Giza     4.6  29.91165  31.165417   \n",
              "33                  Sphinx     Giza     4.6  29.91165  31.165417   \n",
              "31                 Saqqara     Giza     4.6  29.91165  31.165417   \n",
              "\n",
              "    distance_to_rated  \n",
              "35                0.0  \n",
              "33                0.0  \n",
              "31                0.0  "
            ]
          },
          "execution_count": 27,
          "metadata": {},
          "output_type": "execute_result"
        }
      ],
      "source": [
        "unrated_df.head(3)"
      ]
    },
    {
      "cell_type": "code",
      "execution_count": null,
      "metadata": {
        "colab": {
          "base_uri": "https://localhost:8080/"
        },
        "id": "GtCv-QDnWTDh",
        "outputId": "304cf905-dcfe-4984-9840-5f8b69a4aaf2"
      },
      "outputs": [
        {
          "name": "stdout",
          "output_type": "stream",
          "text": [
            "Computing the cosine similarity matrix...\n",
            "Done computing similarity matrix.\n"
          ]
        },
        {
          "data": {
            "text/plain": [
              "<surprise.prediction_algorithms.knns.KNNBasic at 0x7f1ba371c9d0>"
            ]
          },
          "execution_count": 28,
          "metadata": {},
          "output_type": "execute_result"
        }
      ],
      "source": [
        "# Fill any missing values with the overall mean rating\n",
        "unrated_df['rating'] = unrated_df['rating'].fillna(df['rating'].mean())\n",
        "\n",
        "# Create a reader and a dataset\n",
        "reader = Reader(rating_scale=(1, 5))\n",
        "data = Dataset.load_from_df(df[['user_id', 'location', 'rating']], reader)\n",
        "\n",
        "# Train a KNNBasic algorithm on the data\n",
        "sim_options = {'name': 'cosine', 'user_based': False}\n",
        "algo_knn = KNNBasic(sim_options=sim_options)\n",
        "trainset_knn = data.build_full_trainset()\n",
        "algo_knn.fit(trainset_knn)"
      ]
    },
    {
      "cell_type": "code",
      "execution_count": null,
      "metadata": {
        "id": "Gih5L4X4cAbm"
      },
      "outputs": [],
      "source": [
        "df.loc[df['location_name'] == rated_location].iloc[0]['user_id']"
      ]
    },
    {
      "cell_type": "code",
      "execution_count": null,
      "metadata": {
        "id": "pKWIA_BJctzV"
      },
      "outputs": [],
      "source": [
        "distances, indices, _ = algo_knn.get_neighbors(1, k=3)"
      ]
    },
    {
      "cell_type": "code",
      "execution_count": null,
      "metadata": {
        "colab": {
          "base_uri": "https://localhost:8080/"
        },
        "id": "8lB0k-ADc0yN",
        "outputId": "bba0186c-bf21-4fe0-9a89-2eaeeaca74a8"
      },
      "outputs": [
        {
          "data": {
            "text/plain": [
              "[('Al-Azhar Mosque', 30.0459, 31.2627),\n",
              " ('El Moez Street', 30.0398, 31.2609),\n",
              " ('Aswan Botanical Garden', 24.0737, 32.8789),\n",
              " ('Cairo Tower', 30.0455, 31.2243),\n",
              " ('Philae Temple', 24.0256, 32.8853),\n",
              " ('Abdeen Palace', 30.0432, 31.2423),\n",
              " ('Museum of Islamic Art', 30.0483, 31.2299),\n",
              " ('Al-Muizz Street', 30.0404, 31.2494),\n",
              " ('Egyptian Museum', 30.0478, 31.2336)]"
            ]
          },
          "execution_count": 31,
          "metadata": {},
          "output_type": "execute_result"
        }
      ],
      "source": [
        "nearest_neighbors  = []\n",
        "indices_series = pd.Series(indices)\n",
        "nearest_neighbors.extend(df.loc[df['user_id'].isin(indices_series)][['location_name', 'latitude', 'longitude']].values.tolist())\n",
        "nearest_neighbors = list(set([tuple(location) for location in nearest_neighbors]))\n",
        "nearest_neighbors"
      ]
    },
    {
      "cell_type": "code",
      "execution_count": null,
      "metadata": {
        "id": "Q97JTqOxxFFQ"
      },
      "outputs": [],
      "source": [
        "nearest_neighbors = []\n",
        "for rated_location in rated_locations:\n",
        "    user_id = df.loc[df['location_name'] == rated_location].iloc[0]['user_id']\n",
        "    distances, indices, _ = algo_knn.get_neighbors(user_id, k=3)\n",
        "    indices_series = pd.Series(indices)\n",
        "    nearest_neighbors.extend(df.loc[df['user_id'].isin(indices_series)][['location_name', 'latitude', 'longitude']].values.tolist())\n"
      ]
    },
    {
      "cell_type": "code",
      "execution_count": null,
      "metadata": {
        "id": "KH2V60A9W2Ta"
      },
      "outputs": [],
      "source": [
        "# Remove any duplicates from the nearest neighbor locations\n",
        "nearest_neighbors = list(set([tuple(location) for location in nearest_neighbors]))"
      ]
    },
    {
      "cell_type": "code",
      "execution_count": null,
      "metadata": {
        "colab": {
          "base_uri": "https://localhost:8080/"
        },
        "id": "AY3-hn_V4a7l",
        "outputId": "1c351eb0-28f0-4c35-82ad-c3da949ed833"
      },
      "outputs": [
        {
          "data": {
            "text/plain": [
              "[(\"Saint Catherine's Monastery\", 28.5538, 33.9759),\n",
              " (\"St. Anthony's Monastery\", 28.5606, 33.9049),\n",
              " ('El Moez Street', 30.0398, 31.2609),\n",
              " ('Al-Azhar Mosque', 30.0459, 31.2627),\n",
              " ('Aswan Botanical Garden', 24.0737, 32.8789),\n",
              " ('Sharm El Sheikh', 27.9158, 34.3294),\n",
              " ('Ras Mohammed National Park', 27.7559, 34.2629),\n",
              " ('Hurghada', 27.2579, 33.8116),\n",
              " ('Mount Sinai', 28.5392, 33.9757),\n",
              " ('Philae Temple', 24.0256, 32.8853),\n",
              " ('Cairo Tower', 30.0455, 31.2243),\n",
              " ('Abdeen Palace', 30.0432, 31.2423),\n",
              " ('Museum of Islamic Art', 30.0483, 31.2299),\n",
              " ('Al-Muizz Street', 30.0404, 31.2494),\n",
              " ('Egyptian Museum', 30.0478, 31.2336)]"
            ]
          },
          "execution_count": 34,
          "metadata": {},
          "output_type": "execute_result"
        }
      ],
      "source": [
        "nearest_neighbors"
      ]
    },
    {
      "cell_type": "code",
      "execution_count": null,
      "metadata": {
        "id": "od9CXuR6zLUn"
      },
      "outputs": [],
      "source": [
        "# Calculate the distance between the nearest neighbor locations and the previously rated locations\n",
        "nearest_neighbor_distances = []\n",
        "for nearest_neighbor in nearest_neighbors:\n",
        "    distance = np.mean(\n",
        "        [calculate_distance(\n",
        "            nearest_neighbor[1], \n",
        "            nearest_neighbor[2], \n",
        "            rated_location['latitude'], \n",
        "            rated_location['longitude']\n",
        "        ) for rated_location in rated_df.to_dict('records')]\n",
        "    )\n",
        "\n",
        "    nearest_neighbor_distances.append((nearest_neighbor[0], distance))"
      ]
    },
    {
      "cell_type": "code",
      "execution_count": null,
      "metadata": {
        "colab": {
          "base_uri": "https://localhost:8080/"
        },
        "id": "Zaa8Ree2CMwT",
        "outputId": "dc37c40d-9f9b-436d-92cd-ede38ce8be0c"
      },
      "outputs": [
        {
          "data": {
            "text/plain": [
              "[(\"Saint Catherine's Monastery\", 28.5538, 33.9759),\n",
              " (\"St. Anthony's Monastery\", 28.5606, 33.9049),\n",
              " ('El Moez Street', 30.0398, 31.2609),\n",
              " ('Al-Azhar Mosque', 30.0459, 31.2627),\n",
              " ('Aswan Botanical Garden', 24.0737, 32.8789),\n",
              " ('Sharm El Sheikh', 27.9158, 34.3294),\n",
              " ('Ras Mohammed National Park', 27.7559, 34.2629),\n",
              " ('Hurghada', 27.2579, 33.8116),\n",
              " ('Mount Sinai', 28.5392, 33.9757),\n",
              " ('Philae Temple', 24.0256, 32.8853),\n",
              " ('Cairo Tower', 30.0455, 31.2243),\n",
              " ('Abdeen Palace', 30.0432, 31.2423),\n",
              " ('Museum of Islamic Art', 30.0483, 31.2299),\n",
              " ('Al-Muizz Street', 30.0404, 31.2494),\n",
              " ('Egyptian Museum', 30.0478, 31.2336)]"
            ]
          },
          "execution_count": 36,
          "metadata": {},
          "output_type": "execute_result"
        }
      ],
      "source": [
        "nearest_neighbors"
      ]
    },
    {
      "cell_type": "code",
      "execution_count": null,
      "metadata": {
        "colab": {
          "base_uri": "https://localhost:8080/"
        },
        "id": "9XmvWb4wCs4c",
        "outputId": "532aef89-9bc6-4c91-fdbc-741bcc6b606c"
      },
      "outputs": [
        {
          "name": "stdout",
          "output_type": "stream",
          "text": [
            "31.227116666666664\n",
            "29.933016666666663\n",
            "31.227116666666664\n",
            "29.933016666666663\n",
            "29.911649999999998\n",
            "31.16541666666667\n"
          ]
        }
      ],
      "source": [
        "for rated_location in rated_df.to_dict('records'):\n",
        "  print(rated_location['latitude']) \n",
        "  print(rated_location['longitude']) "
      ]
    },
    {
      "cell_type": "code",
      "execution_count": null,
      "metadata": {
        "colab": {
          "base_uri": "https://localhost:8080/"
        },
        "id": "hPCuaJkM0ES-",
        "outputId": "139eca00-78c1-4ea2-a04d-e4abf9498c79"
      },
      "outputs": [
        {
          "data": {
            "text/plain": [
              "['Cairo Tower',\n",
              " 'Museum of Islamic Art',\n",
              " 'Egyptian Museum',\n",
              " 'Abdeen Palace',\n",
              " 'Al-Muizz Street',\n",
              " 'Al-Azhar Mosque',\n",
              " 'El Moez Street']"
            ]
          },
          "execution_count": 38,
          "metadata": {},
          "output_type": "execute_result"
        }
      ],
      "source": [
        "# Sort the nearest neighbor locations by distance (in ascending order)\n",
        "nearest_neighbor_distances.sort(key=lambda x: x[1])\n",
        "\n",
        "# Get the top 3 recommended locations from the nearest neighbor locations\n",
        "recommendations = nearest_neighbor_distances[:7]\n",
        "\n",
        "# Return a list of the recommended locations\n",
        "recommended_locations = [recommendation[0] for recommendation in recommendations]\n",
        "recommended_locations"
      ]
    }
  ],
  "metadata": {
    "colab": {
      "collapsed_sections": [
        "ztxrSbXcXZ7O",
        "FFpCWE2CXtVu",
        "NHrU-zx1X0AW",
        "jMlZCEDb7AVu",
        "kgTTPn7owStB"
      ],
      "provenance": []
    },
    "kernelspec": {
      "display_name": "Python 3",
      "name": "python3"
    },
    "language_info": {
      "name": "python"
    }
  },
  "nbformat": 4,
  "nbformat_minor": 0
}
