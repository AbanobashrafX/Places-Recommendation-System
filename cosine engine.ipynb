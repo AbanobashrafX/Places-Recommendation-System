{
  "cells": [
    {
      "attachments": {},
      "cell_type": "markdown",
      "metadata": {
        "id": "mZoKrnn9W3EH"
      },
      "source": [
        "*PLACES RECOMMENDATION ENGINE!*"
      ]
    },
    {
      "attachments": {},
      "cell_type": "markdown",
      "metadata": {
        "id": "ztxrSbXcXZ7O"
      },
      "source": [
        "# Load data\n",
        "\n"
      ]
    },
    {
      "cell_type": "code",
      "execution_count": null,
      "metadata": {
        "id": "C5yepCnvXbx-"
      },
      "outputs": [],
      "source": [
        "import pandas as pd\n",
        "from sklearn.metrics.pairwise import cosine_similarity\n",
        "\n",
        "# Load data\n",
        "places_df = pd.read_csv('places.csv')\n",
        "places_df"
      ]
    },
    {
      "attachments": {},
      "cell_type": "markdown",
      "metadata": {
        "id": "FFpCWE2CXtVu"
      },
      "source": [
        "# Preprocess data"
      ]
    },
    {
      "cell_type": "code",
      "execution_count": null,
      "metadata": {
        "id": "Up22e4JbV25Z"
      },
      "outputs": [],
      "source": [
        "places_df['categories'] = places_df['categories'].apply(lambda x: x.split(';'))\n",
        "categories = set([cat for cats in places_df['categories'] for cat in cats])\n",
        "categories"
      ]
    },
    {
      "cell_type": "code",
      "execution_count": 7,
      "metadata": {
        "id": "RQVQRHBTYHKv"
      },
      "outputs": [],
      "source": [
        "for cat in categories:\n",
        "    places_df[cat] = places_df['categories'].apply(lambda x: int(cat in x))"
      ]
    },
    {
      "cell_type": "code",
      "execution_count": 8,
      "metadata": {
        "id": "2utv9NSoYNdm"
      },
      "outputs": [],
      "source": [
        "places_df = places_df.drop(['categories'], axis=1)"
      ]
    },
    {
      "cell_type": "code",
      "execution_count": null,
      "metadata": {
        "id": "o92BiK_-YR7F"
      },
      "outputs": [],
      "source": [
        "# Compute item similarity\n",
        "cosine_sim = cosine_similarity(places_df.drop(['place_id', 'place_name'], axis=1))"
      ]
    },
    {
      "attachments": {},
      "cell_type": "markdown",
      "metadata": {
        "id": "NHrU-zx1X0AW"
      },
      "source": [
        "# Define function to recommend places based on user preferences\n"
      ]
    },
    {
      "cell_type": "code",
      "execution_count": null,
      "metadata": {
        "id": "kvkEn83BX1hO"
      },
      "outputs": [],
      "source": [
        "def recommend_places(user_preferences, n_recommendations=5):\n",
        "    # Create user profile vector\n",
        "    user_profile = pd.Series(index=categories, data=0)\n",
        "    for pref in user_preferences:\n",
        "        user_profile[pref] = 1\n",
        "    \n",
        "    # Compute user similarity to items\n",
        "    user_sim = cosine_similarity([user_profile], places_df.drop(['place_id', 'place_name'], axis=1))\n",
        "    \n",
        "    # Get top n similar items\n",
        "    sim_scores = list(enumerate(user_sim[0]))\n",
        "    sim_scores = sorted(sim_scores, key=lambda x: x[1], reverse=True)\n",
        "    sim_scores = sim_scores[1:n_recommendations+1]\n",
        "    \n",
        "    # Get recommended places\n",
        "    place_indices = [i[0] for i in sim_scores]\n",
        "    recommendations = places_df[['place_name', 'categories']].iloc[place_indices].values.tolist()\n",
        "    \n",
        "    return recommendations"
      ]
    },
    {
      "cell_type": "code",
      "execution_count": null,
      "metadata": {
        "id": "VyP4SFpkWSwg"
      },
      "outputs": [],
      "source": [
        "import pandas as pd\n",
        "from sklearn.metrics.pairwise import cosine_similarity\n",
        "\n",
        "def load_data(file_path):\n",
        "    places_df = pd.read_csv(file_path)\n",
        "    return places_df\n",
        "\n",
        "def preprocess_data(places_df):\n",
        "    places_df['categories'] = places_df['categories'].apply(lambda x: x.split(';'))\n",
        "    categories = set([cat for cats in places_df['categories'] for cat in cats])\n",
        "    \n",
        "    for cat in categories:\n",
        "        places_df[cat] = places_df['categories'].apply(lambda x: int(cat in x))\n",
        "    \n",
        "    places_df = places_df.drop(['categories'], axis=1)\n",
        "    return categories, places_df\n",
        "\n",
        "def compute_similarity(places_df):\n",
        "    numeric_columns = places_df.select_dtypes(include='number').columns\n",
        "    cosine_sim = cosine_similarity(places_df[numeric_columns])\n",
        "    return cosine_sim\n",
        "\n",
        "def recommend_places(user_preferences, categories, places_df, cosine_sim, n_recommendations=5):\n",
        "    user_profile = pd.Series(index=places_df.columns, data=0)  # Use places_df.columns instead of categories\n",
        "    for pref in user_preferences:\n",
        "        user_profile[pref] = 1\n",
        "\n",
        "    numeric_columns = places_df.select_dtypes(include='number').columns\n",
        "    user_sim = cosine_similarity([user_profile[numeric_columns].values], places_df[numeric_columns])\n",
        "\n",
        "    sim_scores = list(enumerate(user_sim[0]))\n",
        "    sim_scores = sorted(sim_scores, key=lambda x: x[1], reverse=True)\n",
        "    sim_scores = sim_scores[1:n_recommendations+1]\n",
        "\n",
        "    place_indices = [i[0] for i in sim_scores]\n",
        "    recommendations = places_df[['place_name']].iloc[place_indices].values.tolist()\n",
        "\n",
        "    return recommendations\n",
        "\n",
        "# Load data\n",
        "file_path = 'places.csv'\n",
        "places_df = load_data(file_path)\n",
        "\n",
        "# Preprocess data\n",
        "categories, places_df = preprocess_data(places_df)\n",
        "\n",
        "# Compute item similarity\n",
        "cosine_sim = compute_similarity(places_df)\n",
        "\n",
        "# Define user preferences\n",
        "user_preferences = [\"Church\", \"Beach\", \"Historical Landmark\", \"Market\"]\n",
        "\n",
        "# Get recommendations\n",
        "recommendations = recommend_places(user_preferences, categories, places_df, cosine_sim)\n",
        "print(recommendations)\n"
      ]
    }
  ],
  "metadata": {
    "colab": {
      "provenance": []
    },
    "kernelspec": {
      "display_name": "Python 3",
      "name": "python3"
    },
    "language_info": {
      "name": "python"
    }
  },
  "nbformat": 4,
  "nbformat_minor": 0
}
