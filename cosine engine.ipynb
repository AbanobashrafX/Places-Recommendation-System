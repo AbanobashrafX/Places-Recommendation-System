{
  "nbformat": 4,
  "nbformat_minor": 0,
  "metadata": {
    "colab": {
      "provenance": []
    },
    "kernelspec": {
      "name": "python3",
      "display_name": "Python 3"
    },
    "language_info": {
      "name": "python"
    }
  },
  "cells": [
    {
      "cell_type": "markdown",
      "source": [
        "*PLACES RECOMMENDATION ENGINE!*"
      ],
      "metadata": {
        "id": "mZoKrnn9W3EH"
      }
    },
    {
      "cell_type": "markdown",
      "source": [
        "# Load data\n",
        "\n"
      ],
      "metadata": {
        "id": "ztxrSbXcXZ7O"
      }
    },
    {
      "cell_type": "code",
      "source": [
        "import pandas as pd\n",
        "from sklearn.metrics.pairwise import cosine_similarity\n",
        "\n",
        "# Load data\n",
        "places_df = pd.read_csv('places.csv')\n",
        "places_df"
      ],
      "metadata": {
        "id": "C5yepCnvXbx-"
      },
      "execution_count": null,
      "outputs": []
    },
    {
      "cell_type": "markdown",
      "source": [
        "# Preprocess data"
      ],
      "metadata": {
        "id": "FFpCWE2CXtVu"
      }
    },
    {
      "cell_type": "code",
      "execution_count": null,
      "metadata": {
        "id": "Up22e4JbV25Z"
      },
      "outputs": [],
      "source": [
        "places_df['categories'] = places_df['categories'].apply(lambda x: x.split(';'))\n",
        "categories = set([cat for cats in places_df['categories'] for cat in cats])\n",
        "categories"
      ]
    },
    {
      "cell_type": "code",
      "source": [
        "for cat in categories:\n",
        "    places_df[cat] = places_df['categories'].apply(lambda x: int(cat in x))"
      ],
      "metadata": {
        "id": "RQVQRHBTYHKv"
      },
      "execution_count": 7,
      "outputs": []
    },
    {
      "cell_type": "code",
      "source": [
        "places_df = places_df.drop(['categories'], axis=1)"
      ],
      "metadata": {
        "id": "2utv9NSoYNdm"
      },
      "execution_count": 8,
      "outputs": []
    },
    {
      "cell_type": "code",
      "source": [
        "# Compute item similarity\n",
        "cosine_sim = cosine_similarity(places_df.drop(['place_id', 'place_name'], axis=1))"
      ],
      "metadata": {
        "id": "o92BiK_-YR7F"
      },
      "execution_count": null,
      "outputs": []
    },
    {
      "cell_type": "markdown",
      "source": [
        "# Define function to recommend places based on user preferences\n"
      ],
      "metadata": {
        "id": "NHrU-zx1X0AW"
      }
    },
    {
      "cell_type": "code",
      "source": [
        "def recommend_places(user_preferences, n_recommendations=5):\n",
        "    # Create user profile vector\n",
        "    user_profile = pd.Series(index=categories, data=0)\n",
        "    for pref in user_preferences:\n",
        "        user_profile[pref] = 1\n",
        "    \n",
        "    # Compute user similarity to items\n",
        "    user_sim = cosine_similarity([user_profile], places_df.drop(['place_id', 'place_name'], axis=1))\n",
        "    \n",
        "    # Get top n similar items\n",
        "    sim_scores = list(enumerate(user_sim[0]))\n",
        "    sim_scores = sorted(sim_scores, key=lambda x: x[1], reverse=True)\n",
        "    sim_scores = sim_scores[1:n_recommendations+1]\n",
        "    \n",
        "    # Get recommended places\n",
        "    place_indices = [i[0] for i in sim_scores]\n",
        "    recommendations = places_df[['place_name', 'categories']].iloc[place_indices].values.tolist()\n",
        "    \n",
        "    return recommendations"
      ],
      "metadata": {
        "id": "kvkEn83BX1hO"
      },
      "execution_count": null,
      "outputs": []
    },
    {
      "cell_type": "code",
      "source": [],
      "metadata": {
        "id": "VyP4SFpkWSwg"
      },
      "execution_count": null,
      "outputs": []
    }
  ]
}