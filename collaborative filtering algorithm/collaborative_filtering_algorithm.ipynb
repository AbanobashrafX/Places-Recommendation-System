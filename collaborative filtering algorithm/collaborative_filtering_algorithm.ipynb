{
  "cells": [
    {
      "cell_type": "markdown",
      "metadata": {
        "id": "7GPzrdsl0DTT"
      },
      "source": [
        "Importing required libraries"
      ]
    },
    {
      "cell_type": "code",
      "execution_count": 26,
      "metadata": {
        "id": "kY8q_I37vloV"
      },
      "outputs": [],
      "source": [
        "import pandas as pd\n",
        "import numpy as np\n",
        "from scipy.spatial.distance import correlation\n"
      ]
    },
    {
      "cell_type": "markdown",
      "metadata": {
        "id": "H-vGrtUL0LrZ"
      },
      "source": [
        "Reading input data"
      ]
    },
    {
      "cell_type": "code",
      "execution_count": 27,
      "metadata": {
        "id": "impKDK8c0Hzy"
      },
      "outputs": [],
      "source": [
        "df = pd.read_csv('egypt_tourist_locations.csv')\n",
        "# df.head()"
      ]
    },
    {
      "cell_type": "markdown",
      "metadata": {
        "id": "I7U7HRKw0RNz"
      },
      "source": [
        "Preparing the user-item rating matrix"
      ]
    },
    {
      "cell_type": "code",
      "execution_count": 28,
      "metadata": {
        "id": "4tpflMOJ0Jzi"
      },
      "outputs": [],
      "source": [
        "userItemRatingMatrix = pd.pivot_table(\n",
        "    df,\n",
        "    values='rating',\n",
        "    index=['user_id'],\n",
        "    columns=['location_id']\n",
        ")"
      ]
    },
    {
      "cell_type": "markdown",
      "metadata": {
        "id": "MnSvyVkB0W4J"
      },
      "source": [
        "Returns the top recommended locations for a given user based on their ratings"
      ]
    },
    {
      "cell_type": "code",
      "execution_count": 29,
      "metadata": {
        "id": "-4cEyDt9v9Uq"
      },
      "outputs": [],
      "source": [
        "def favoritePlace(activeUser, recommendedNumber):\n",
        "    topPlace = pd.DataFrame.sort_values(df[df.user_id == activeUser], [\n",
        "                                        'rating'], ascending=[0])[:recommendedNumber]\n",
        "    return list(topPlace.location_name)"
      ]
    },
    {
      "cell_type": "markdown",
      "metadata": {
        "id": "2dipU1Z70Z1R"
      },
      "source": [
        "Top recommended categories for a given user based on their ratings"
      ]
    },
    {
      "cell_type": "code",
      "execution_count": 30,
      "metadata": {
        "id": "uVMWvxcYwLHI"
      },
      "outputs": [],
      "source": [
        "def favoriteCategory(activeUser, recommendedNumber):\n",
        "    topCategoty = pd.DataFrame.sort_values(df[df.user_id == activeUser], [\n",
        "                                        'rating'], ascending=[0])[:recommendedNumber]\n",
        "    return {cat for cat in topCategoty.category}"
      ]
    },
    {
      "cell_type": "markdown",
      "metadata": {
        "id": "PrkMNKMJ0efp"
      },
      "source": [
        "Calculates the similarity between two users using the correlation metric"
      ]
    },
    {
      "cell_type": "code",
      "execution_count": 31,
      "metadata": {
        "id": "TLQMqWfIwLGa"
      },
      "outputs": [],
      "source": [
        "def similarity(user1, user2):\n",
        "    try:\n",
        "        # Compute the mean of the ratings for each user\n",
        "        user1_mean = np.nanmean(user1)\n",
        "        user2_mean = np.nanmean(user2)\n",
        "\n",
        "        # Normalize the ratings by subtracting the mean\n",
        "        user1_norm = np.array(user1) - user1_mean\n",
        "        user2_norm = np.array(user2) - user2_mean\n",
        "\n",
        "        # Find the indices of the common rated items\n",
        "        commonItemIds = [i for i in range(\n",
        "            len(user1_norm)) if user1_norm[i] > 0 and user2_norm[i] > 0]\n",
        "\n",
        "        if len(commonItemIds) == 0:\n",
        "            return 0\n",
        "        else:\n",
        "            # Compute the correlation between the normalized ratings\n",
        "            user1_common = np.array([user1_norm[i] for i in commonItemIds])\n",
        "            user2_common = np.array([user2_norm[i] for i in commonItemIds])\n",
        "            return correlation(user1_common, user2_common)\n",
        "    except ZeroDivisionError:\n",
        "        print(\"You can't divide by zero!\")"
      ]
    },
    {
      "cell_type": "markdown",
      "metadata": {
        "id": "yIt5rmY10wgR"
      },
      "source": [
        "Returns the K nearest neighbours of a given user based on their rating similarity"
      ]
    },
    {
      "cell_type": "code",
      "execution_count": 32,
      "metadata": {
        "id": "9Nt2fIFywCga"
      },
      "outputs": [],
      "source": [
        "def nearestNeighbour(activeUser, K):\n",
        "    \"\"\"\n",
        "    nearest Neighbour Ratings\n",
        "    \"\"\"\n",
        "    try:\n",
        "        # Compute the similarity between the active user and all other users\n",
        "        similarityMatrix = pd.DataFrame(\n",
        "            index=userItemRatingMatrix.index, columns=['Similarity'])\n",
        "        for i in userItemRatingMatrix.index:\n",
        "            similarityMatrix.loc[i] = similarity(\n",
        "                userItemRatingMatrix.loc[activeUser], userItemRatingMatrix.loc[i])\n",
        "\n",
        "        # Sort the users by similarity and take the top K\n",
        "        similarityMatrix = similarityMatrix.sort_values(\n",
        "            by='Similarity', ascending=False)\n",
        "        nearestNeighbours = similarityMatrix[:K]\n",
        "\n",
        "        # Retrieve the ratings of the nearest neighbors for all items\n",
        "        neighbourItemRatings = userItemRatingMatrix.loc[nearestNeighbours.index]\n",
        "\n",
        "        # Predict the ratings for the active user for all items\n",
        "        predictItemRating = pd.DataFrame(\n",
        "            index=userItemRatingMatrix.columns, columns=['Rating'])\n",
        "        for i in userItemRatingMatrix.columns:\n",
        "            predictedRating = np.nanmean(userItemRatingMatrix.loc[activeUser])\n",
        "            for j in neighbourItemRatings.index:\n",
        "                if userItemRatingMatrix.loc[j, i] > 0:\n",
        "                    predictedRating += (userItemRatingMatrix.loc[j, i]-np.nanmean(\n",
        "                        userItemRatingMatrix.loc[j]))*nearestNeighbours.loc[j, 'Similarity']\n",
        "            predictItemRating.loc[i, 'Rating'] = predictedRating\n",
        "\n",
        "    except ZeroDivisionError:\n",
        "        print(\"You can't divide by zero!\")\n",
        "    return predictItemRating\n"
      ]
    },
    {
      "cell_type": "markdown",
      "metadata": {
        "id": "idQlysXQ03Yi"
      },
      "source": [
        "Rreturns the top N recommended locations for a given user based on their ratings and similarity to other users"
      ]
    },
    {
      "cell_type": "code",
      "execution_count": 33,
      "metadata": {
        "id": "EhgjalJjwGfr"
      },
      "outputs": [],
      "source": [
        "def topNRecommendations(activeUser, N):\n",
        "    \"\"\"\n",
        "      first:\n",
        "        calls the nearestNeighbour function to get the predicted ratings for all the locations that the active user has not already rated. \n",
        "      Then:\n",
        "        It then removes the locations that the active user has already rated and sorts the predicted ratings in descending order. \n",
        "      Finally, \n",
        "      it returns a list of the top N recommended locations for the active user based on their predicted ratings.\n",
        "    \"\"\"\n",
        "    try:\n",
        "        predictItemRating = nearestNeighbour(activeUser, 10)\n",
        "        placeAlreadyWatched = list(\n",
        "            userItemRatingMatrix.loc[activeUser].loc[userItemRatingMatrix.loc[activeUser] > 0].index)\n",
        "        predictItemRating = predictItemRating.drop(placeAlreadyWatched)\n",
        "        topRecommendations = pd.DataFrame.sort_values(\n",
        "            predictItemRating,\n",
        "            ['Rating'], ascending=[0])[:N]\n",
        "        topRecommendationTitles = (\n",
        "            df.loc[df.location_id.isin(topRecommendations.index)])\n",
        "    except ZeroDivisionError:\n",
        "        print(\"You can't divide by zero!\")\n",
        "    return list(topRecommendationTitles.location_name)"
      ]
    },
    {
      "cell_type": "markdown",
      "metadata": {
        "id": "GsXhnO5Q3MXI"
      },
      "source": [
        "implements a simple recommendation system using collaborative filtering technique, which recommends tourist locations to users based on their ratings and similarity to other users."
      ]
    },
    {
      "cell_type": "code",
      "execution_count": 34,
      "metadata": {
        "colab": {
          "base_uri": "https://localhost:8080/"
        },
        "id": "sMJJC3CIvsgq",
        "outputId": "b72a6c12-615f-4881-daab-7d8855f213e4"
      },
      "outputs": [
        {
          "name": "stdout",
          "output_type": "stream",
          "text": [
            "Enter userid: 1\n",
            "The user's favorite places are: ['Abu Simbel', 'Valley of the Kings', 'Karnak Temple', 'The Egyptian Museum', 'Pyramids of Giza']\n",
            "The user's favorite category are: {'Landmark', 'Historical Landmark', 'Museum'}\n",
            "The recommended places for you are: ['Philae Temple', 'Bab Zuweila', 'Mosque of Ibn Tulun', 'Cairo Opera House', 'Cairo Tower']\n"
          ]
        }
      ],
      "source": [
        "activeUser = int(input(\"Enter userid: \"))\n",
        "print(f\"The user's favorite places are: {favoritePlace(activeUser, 5)}\")\n",
        "print(f\"The user's favorite category are: {favoriteCategory(activeUser, 5)}\")\n",
        "print(f\"The recommended places for you are: {topNRecommendations(activeUser, 5)}\")"
      ]
    }
  ],
  "metadata": {
    "colab": {
      "provenance": []
    },
    "kernelspec": {
      "display_name": "Python 3",
      "name": "python3"
    },
    "language_info": {
      "name": "python"
    }
  },
  "nbformat": 4,
  "nbformat_minor": 0
}
