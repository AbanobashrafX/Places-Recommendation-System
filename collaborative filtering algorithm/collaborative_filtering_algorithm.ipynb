{
  "cells": [
    {
      "cell_type": "markdown",
      "metadata": {
        "id": "7GPzrdsl0DTT"
      },
      "source": [
        "Importing required libraries"
      ]
    },
    {
      "cell_type": "code",
      "execution_count": 1,
      "metadata": {
        "id": "kY8q_I37vloV"
      },
      "outputs": [],
      "source": [
        "import pandas as pd\n",
        "import numpy as np\n",
        "from scipy.spatial.distance import correlation\n"
      ]
    },
    {
      "cell_type": "markdown",
      "metadata": {
        "id": "H-vGrtUL0LrZ"
      },
      "source": [
        "Reading input data"
      ]
    },
    {
      "cell_type": "code",
      "execution_count": 3,
      "metadata": {
        "colab": {
          "base_uri": "https://localhost:8080/",
          "height": 206
        },
        "id": "impKDK8c0Hzy",
        "outputId": "67de9eb6-fa04-40ef-f954-86e33ab1e68b"
      },
      "outputs": [
        {
          "data": {
            "text/html": [
              "\n",
              "  <div id=\"df-463761de-7545-4da3-a53c-7b3feae3aa23\">\n",
              "    <div class=\"colab-df-container\">\n",
              "      <div>\n",
              "<style scoped>\n",
              "    .dataframe tbody tr th:only-of-type {\n",
              "        vertical-align: middle;\n",
              "    }\n",
              "\n",
              "    .dataframe tbody tr th {\n",
              "        vertical-align: top;\n",
              "    }\n",
              "\n",
              "    .dataframe thead th {\n",
              "        text-align: right;\n",
              "    }\n",
              "</style>\n",
              "<table border=\"1\" class=\"dataframe\">\n",
              "  <thead>\n",
              "    <tr style=\"text-align: right;\">\n",
              "      <th></th>\n",
              "      <th>location_id</th>\n",
              "      <th>location_name</th>\n",
              "      <th>category</th>\n",
              "      <th>location</th>\n",
              "      <th>latitude</th>\n",
              "      <th>longitude</th>\n",
              "      <th>rating</th>\n",
              "      <th>user_id</th>\n",
              "    </tr>\n",
              "  </thead>\n",
              "  <tbody>\n",
              "    <tr>\n",
              "      <th>0</th>\n",
              "      <td>1</td>\n",
              "      <td>Pyramids of Giza</td>\n",
              "      <td>Historical Landmark</td>\n",
              "      <td>Giza</td>\n",
              "      <td>29.9792</td>\n",
              "      <td>31.1342</td>\n",
              "      <td>4.5</td>\n",
              "      <td>1</td>\n",
              "    </tr>\n",
              "    <tr>\n",
              "      <th>1</th>\n",
              "      <td>2</td>\n",
              "      <td>Karnak Temple</td>\n",
              "      <td>Landmark</td>\n",
              "      <td>Luxor</td>\n",
              "      <td>25.7188</td>\n",
              "      <td>32.6573</td>\n",
              "      <td>4.6</td>\n",
              "      <td>1</td>\n",
              "    </tr>\n",
              "    <tr>\n",
              "      <th>2</th>\n",
              "      <td>3</td>\n",
              "      <td>Valley of the Kings</td>\n",
              "      <td>Historical Landmark</td>\n",
              "      <td>Luxor</td>\n",
              "      <td>25.7401</td>\n",
              "      <td>32.6012</td>\n",
              "      <td>4.7</td>\n",
              "      <td>1</td>\n",
              "    </tr>\n",
              "    <tr>\n",
              "      <th>3</th>\n",
              "      <td>4</td>\n",
              "      <td>Abu Simbel</td>\n",
              "      <td>Historical Landmark</td>\n",
              "      <td>Aswan</td>\n",
              "      <td>22.3375</td>\n",
              "      <td>31.6258</td>\n",
              "      <td>4.8</td>\n",
              "      <td>1</td>\n",
              "    </tr>\n",
              "    <tr>\n",
              "      <th>4</th>\n",
              "      <td>5</td>\n",
              "      <td>Muizz Street</td>\n",
              "      <td>Market</td>\n",
              "      <td>Cairo</td>\n",
              "      <td>30.0404</td>\n",
              "      <td>31.2494</td>\n",
              "      <td>4.4</td>\n",
              "      <td>1</td>\n",
              "    </tr>\n",
              "  </tbody>\n",
              "</table>\n",
              "</div>\n",
              "      <button class=\"colab-df-convert\" onclick=\"convertToInteractive('df-463761de-7545-4da3-a53c-7b3feae3aa23')\"\n",
              "              title=\"Convert this dataframe to an interactive table.\"\n",
              "              style=\"display:none;\">\n",
              "        \n",
              "  <svg xmlns=\"http://www.w3.org/2000/svg\" height=\"24px\"viewBox=\"0 0 24 24\"\n",
              "       width=\"24px\">\n",
              "    <path d=\"M0 0h24v24H0V0z\" fill=\"none\"/>\n",
              "    <path d=\"M18.56 5.44l.94 2.06.94-2.06 2.06-.94-2.06-.94-.94-2.06-.94 2.06-2.06.94zm-11 1L8.5 8.5l.94-2.06 2.06-.94-2.06-.94L8.5 2.5l-.94 2.06-2.06.94zm10 10l.94 2.06.94-2.06 2.06-.94-2.06-.94-.94-2.06-.94 2.06-2.06.94z\"/><path d=\"M17.41 7.96l-1.37-1.37c-.4-.4-.92-.59-1.43-.59-.52 0-1.04.2-1.43.59L10.3 9.45l-7.72 7.72c-.78.78-.78 2.05 0 2.83L4 21.41c.39.39.9.59 1.41.59.51 0 1.02-.2 1.41-.59l7.78-7.78 2.81-2.81c.8-.78.8-2.07 0-2.86zM5.41 20L4 18.59l7.72-7.72 1.47 1.35L5.41 20z\"/>\n",
              "  </svg>\n",
              "      </button>\n",
              "      \n",
              "  <style>\n",
              "    .colab-df-container {\n",
              "      display:flex;\n",
              "      flex-wrap:wrap;\n",
              "      gap: 12px;\n",
              "    }\n",
              "\n",
              "    .colab-df-convert {\n",
              "      background-color: #E8F0FE;\n",
              "      border: none;\n",
              "      border-radius: 50%;\n",
              "      cursor: pointer;\n",
              "      display: none;\n",
              "      fill: #1967D2;\n",
              "      height: 32px;\n",
              "      padding: 0 0 0 0;\n",
              "      width: 32px;\n",
              "    }\n",
              "\n",
              "    .colab-df-convert:hover {\n",
              "      background-color: #E2EBFA;\n",
              "      box-shadow: 0px 1px 2px rgba(60, 64, 67, 0.3), 0px 1px 3px 1px rgba(60, 64, 67, 0.15);\n",
              "      fill: #174EA6;\n",
              "    }\n",
              "\n",
              "    [theme=dark] .colab-df-convert {\n",
              "      background-color: #3B4455;\n",
              "      fill: #D2E3FC;\n",
              "    }\n",
              "\n",
              "    [theme=dark] .colab-df-convert:hover {\n",
              "      background-color: #434B5C;\n",
              "      box-shadow: 0px 1px 3px 1px rgba(0, 0, 0, 0.15);\n",
              "      filter: drop-shadow(0px 1px 2px rgba(0, 0, 0, 0.3));\n",
              "      fill: #FFFFFF;\n",
              "    }\n",
              "  </style>\n",
              "\n",
              "      <script>\n",
              "        const buttonEl =\n",
              "          document.querySelector('#df-463761de-7545-4da3-a53c-7b3feae3aa23 button.colab-df-convert');\n",
              "        buttonEl.style.display =\n",
              "          google.colab.kernel.accessAllowed ? 'block' : 'none';\n",
              "\n",
              "        async function convertToInteractive(key) {\n",
              "          const element = document.querySelector('#df-463761de-7545-4da3-a53c-7b3feae3aa23');\n",
              "          const dataTable =\n",
              "            await google.colab.kernel.invokeFunction('convertToInteractive',\n",
              "                                                     [key], {});\n",
              "          if (!dataTable) return;\n",
              "\n",
              "          const docLinkHtml = 'Like what you see? Visit the ' +\n",
              "            '<a target=\"_blank\" href=https://colab.research.google.com/notebooks/data_table.ipynb>data table notebook</a>'\n",
              "            + ' to learn more about interactive tables.';\n",
              "          element.innerHTML = '';\n",
              "          dataTable['output_type'] = 'display_data';\n",
              "          await google.colab.output.renderOutput(dataTable, element);\n",
              "          const docLink = document.createElement('div');\n",
              "          docLink.innerHTML = docLinkHtml;\n",
              "          element.appendChild(docLink);\n",
              "        }\n",
              "      </script>\n",
              "    </div>\n",
              "  </div>\n",
              "  "
            ],
            "text/plain": [
              "   location_id        location_name             category location  latitude  \\\n",
              "0            1     Pyramids of Giza  Historical Landmark     Giza   29.9792   \n",
              "1            2        Karnak Temple             Landmark    Luxor   25.7188   \n",
              "2            3  Valley of the Kings  Historical Landmark    Luxor   25.7401   \n",
              "3            4           Abu Simbel  Historical Landmark    Aswan   22.3375   \n",
              "4            5         Muizz Street               Market    Cairo   30.0404   \n",
              "\n",
              "   longitude  rating  user_id  \n",
              "0    31.1342     4.5        1  \n",
              "1    32.6573     4.6        1  \n",
              "2    32.6012     4.7        1  \n",
              "3    31.6258     4.8        1  \n",
              "4    31.2494     4.4        1  "
            ]
          },
          "execution_count": 3,
          "metadata": {},
          "output_type": "execute_result"
        }
      ],
      "source": [
        "df = pd.read_csv('egypt_tourist_locations.csv')\n",
        "df.head()"
      ]
    },
    {
      "cell_type": "code",
      "execution_count": 4,
      "metadata": {
        "colab": {
          "base_uri": "https://localhost:8080/",
          "height": 503
        },
        "id": "Z4r9LZiyp0_W",
        "outputId": "c8207320-4f52-4f9b-fbc6-b2689ea6a35e"
      },
      "outputs": [
        {
          "data": {
            "text/plain": [
              "<Axes: xlabel='location', ylabel='rating'>"
            ]
          },
          "execution_count": 4,
          "metadata": {},
          "output_type": "execute_result"
        },
        {
          "data": {
            "image/png": "[encoded data removed]",
            "text/plain": [
              "<Figure size 1080x554.4 with 1 Axes>"
            ]
          },
          "metadata": {},
          "output_type": "display_data"
        }
      ],
      "source": [
        "# Step 3: Analyze data\n",
        "# We can visualize the data using a scatterplot to see if there is a relationship between the input features and output classes\n",
        "\n",
        "import seaborn as sns\n",
        "\n",
        "sns.set(rc={'figure.figsize':(15, 7.7)})\n",
        "\n",
        "sns.scatterplot(data=df, x='location', y='rating', hue='category', palette=\"hls\", legend='full')"
      ]
    },
    {
      "cell_type": "markdown",
      "metadata": {
        "id": "I7U7HRKw0RNz"
      },
      "source": [
        "Preparing the user-item rating matrix"
      ]
    },
    {
      "cell_type": "code",
      "execution_count": 5,
      "metadata": {
        "id": "4tpflMOJ0Jzi"
      },
      "outputs": [],
      "source": [
        "userItemRatingMatrix = pd.pivot_table(\n",
        "    df,\n",
        "    values='rating',\n",
        "    index=['user_id'],\n",
        "    columns=['location_id']\n",
        ")"
      ]
    },
    {
      "cell_type": "markdown",
      "metadata": {
        "id": "MnSvyVkB0W4J"
      },
      "source": [
        "Returns the top recommended locations for a given user based on their ratings"
      ]
    },
    {
      "cell_type": "code",
      "execution_count": 6,
      "metadata": {
        "id": "-4cEyDt9v9Uq"
      },
      "outputs": [],
      "source": [
        "def favoritePlace(activeUser, recommendedNumber):\n",
        "    topPlace = pd.DataFrame.sort_values(df[df.user_id == activeUser], [\n",
        "                                        'rating'], ascending=[0])[:recommendedNumber]\n",
        "    return list(topPlace.location_name)"
      ]
    },
    {
      "cell_type": "markdown",
      "metadata": {
        "id": "2dipU1Z70Z1R"
      },
      "source": [
        "Top recommended categories for a given user based on their ratings"
      ]
    },
    {
      "cell_type": "code",
      "execution_count": 7,
      "metadata": {
        "id": "uVMWvxcYwLHI"
      },
      "outputs": [],
      "source": [
        "def favoriteCategory(activeUser, recommendedNumber):\n",
        "    topCategoty = pd.DataFrame.sort_values(df[df.user_id == activeUser], [\n",
        "                                        'rating'], ascending=[0])[:recommendedNumber]\n",
        "    return {cat for cat in topCategoty.category}"
      ]
    },
    {
      "cell_type": "markdown",
      "metadata": {
        "id": "PrkMNKMJ0efp"
      },
      "source": [
        "Calculates the similarity between two users using the correlation metric"
      ]
    },
    {
      "cell_type": "code",
      "execution_count": 8,
      "metadata": {
        "id": "TLQMqWfIwLGa"
      },
      "outputs": [],
      "source": [
        "def similarity(user1, user2):\n",
        "    try:\n",
        "        # Compute the mean of the ratings for each user\n",
        "        user1_mean = np.nanmean(user1)\n",
        "        user2_mean = np.nanmean(user2)\n",
        "\n",
        "        # Normalize the ratings by subtracting the mean\n",
        "        user1_norm = np.array(user1) - user1_mean\n",
        "        user2_norm = np.array(user2) - user2_mean\n",
        "\n",
        "        # Find the indices of the common rated items\n",
        "        commonItemIds = [i for i in range(\n",
        "            len(user1_norm)) if user1_norm[i] > 0 and user2_norm[i] > 0]\n",
        "\n",
        "        if len(commonItemIds) == 0:\n",
        "            return 0\n",
        "        else:\n",
        "            # Compute the correlation between the normalized ratings\n",
        "            user1_common = np.array([user1_norm[i] for i in commonItemIds])\n",
        "            user2_common = np.array([user2_norm[i] for i in commonItemIds])\n",
        "            return correlation(user1_common, user2_common)\n",
        "    except ZeroDivisionError:\n",
        "        print(\"You can't divide by zero!\")"
      ]
    },
    {
      "cell_type": "markdown",
      "metadata": {
        "id": "yIt5rmY10wgR"
      },
      "source": [
        "Returns the K nearest neighbours of a given user based on their rating similarity"
      ]
    },
    {
      "cell_type": "code",
      "execution_count": 9,
      "metadata": {
        "id": "9Nt2fIFywCga"
      },
      "outputs": [],
      "source": [
        "def nearestNeighbour(activeUser, K):\n",
        "    \"\"\"\n",
        "    nearest Neighbour Ratings\n",
        "    \"\"\"\n",
        "    try:\n",
        "        # Compute the similarity between the active user and all other users\n",
        "        similarityMatrix = pd.DataFrame(\n",
        "            index=userItemRatingMatrix.index, columns=['Similarity'])\n",
        "        for i in userItemRatingMatrix.index:\n",
        "            similarityMatrix.loc[i] = similarity(\n",
        "                userItemRatingMatrix.loc[activeUser], userItemRatingMatrix.loc[i])\n",
        "\n",
        "        # Sort the users by similarity and take the top K\n",
        "        similarityMatrix = similarityMatrix.sort_values(\n",
        "            by='Similarity', ascending=False)\n",
        "        nearestNeighbours = similarityMatrix[:K]\n",
        "\n",
        "        # Retrieve the ratings of the nearest neighbors for all items\n",
        "        neighbourItemRatings = userItemRatingMatrix.loc[nearestNeighbours.index]\n",
        "\n",
        "        # Predict the ratings for the active user for all items\n",
        "        predictItemRating = pd.DataFrame(\n",
        "            index=userItemRatingMatrix.columns, columns=['Rating'])\n",
        "        for i in userItemRatingMatrix.columns:\n",
        "            predictedRating = np.nanmean(userItemRatingMatrix.loc[activeUser])\n",
        "            for j in neighbourItemRatings.index:\n",
        "                if userItemRatingMatrix.loc[j, i] > 0:\n",
        "                    predictedRating += (userItemRatingMatrix.loc[j, i]-np.nanmean(\n",
        "                        userItemRatingMatrix.loc[j]))*nearestNeighbours.loc[j, 'Similarity']\n",
        "            predictItemRating.loc[i, 'Rating'] = predictedRating\n",
        "\n",
        "    except ZeroDivisionError:\n",
        "        print(\"You can't divide by zero!\")\n",
        "    return predictItemRating\n"
      ]
    },
    {
      "cell_type": "markdown",
      "metadata": {
        "id": "idQlysXQ03Yi"
      },
      "source": [
        "Rreturns the top N recommended locations for a given user based on their ratings and similarity to other users"
      ]
    },
    {
      "cell_type": "code",
      "execution_count": 10,
      "metadata": {
        "id": "EhgjalJjwGfr"
      },
      "outputs": [],
      "source": [
        "def topNRecommendations(activeUser, N):\n",
        "    \"\"\"\n",
        "      first:\n",
        "        calls the nearestNeighbour function to get the predicted ratings for all the locations that the active user has not already rated. \n",
        "      Then:\n",
        "        It then removes the locations that the active user has already rated and sorts the predicted ratings in descending order. \n",
        "      Finally, \n",
        "      it returns a list of the top N recommended locations for the active user based on their predicted ratings.\n",
        "    \"\"\"\n",
        "    try:\n",
        "        predictItemRating = nearestNeighbour(activeUser, 10)\n",
        "        placeAlreadyWatched = list(\n",
        "            userItemRatingMatrix.loc[activeUser].loc[userItemRatingMatrix.loc[activeUser] > 0].index)\n",
        "        predictItemRating = predictItemRating.drop(placeAlreadyWatched)\n",
        "        topRecommendations = pd.DataFrame.sort_values(\n",
        "            predictItemRating,\n",
        "            ['Rating'], ascending=[0])[:N]\n",
        "        topRecommendationTitles = (\n",
        "            df.loc[df.location_id.isin(topRecommendations.index)])\n",
        "    except ZeroDivisionError:\n",
        "        print(\"You can't divide by zero!\")\n",
        "    return list(topRecommendationTitles.location_name)"
      ]
    },
    {
      "cell_type": "markdown",
      "metadata": {
        "id": "GsXhnO5Q3MXI"
      },
      "source": [
        "implements a simple recommendation system using collaborative filtering technique, which recommends tourist locations to users based on their ratings and similarity to other users."
      ]
    },
    {
      "cell_type": "code",
      "execution_count": 12,
      "metadata": {
        "colab": {
          "base_uri": "https://localhost:8080/"
        },
        "id": "sMJJC3CIvsgq",
        "outputId": "10a65c27-be17-4cef-e289-58d9abe39a11"
      },
      "outputs": [
        {
          "name": "stdout",
          "output_type": "stream",
          "text": [
            "Enter userid: 1\n",
            "The user's favorite places are: ['Abu Simbel', 'Valley of the Kings', 'Karnak Temple', 'The Egyptian Museum', 'Pyramids of Giza']\n",
            "The user's favorite category are: {'Museum', 'Historical Landmark', 'Landmark'}\n",
            "The recommended places for you are: ['Philae Temple', 'Bab Zuweila', 'Mosque of Ibn Tulun', 'Cairo Opera House', 'Cairo Tower']\n"
          ]
        }
      ],
      "source": [
        "activeUser = int(input(\"Enter userid: \"))\n",
        "print(f\"The user's favorite places are: {favoritePlace(activeUser, 5)}\")\n",
        "print(f\"The user's favorite category are: {favoriteCategory(activeUser, 5)}\")\n",
        "print(f\"The recommended places for you are: {topNRecommendations(activeUser, 5)}\")"
      ]
    },
    {
      "cell_type": "code",
      "execution_count": null,
      "metadata": {
        "id": "A5YolzQ_qn8b"
      },
      "outputs": [],
      "source": []
    }
  ],
  "metadata": {
    "colab": {
      "provenance": []
    },
    "kernelspec": {
      "display_name": "Python 3",
      "language": "python",
      "name": "python3"
    },
    "language_info": {
      "codemirror_mode": {
        "name": "ipython",
        "version": 3
      },
      "file_extension": ".py",
      "mimetype": "text/x-python",
      "name": "python",
      "nbconvert_exporter": "python",
      "pygments_lexer": "ipython3",
      "version": "3.9.6"
    },
    "vscode": {
      "interpreter": {
        "hash": "8960d8cfc32f36f3c9079e38af96efc20425745cff49af8dfc72035b3a678df4"
      }
    }
  },
  "nbformat": 4,
  "nbformat_minor": 0
}
